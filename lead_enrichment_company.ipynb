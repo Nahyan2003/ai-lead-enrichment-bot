{
 "cells": [
  {
   "cell_type": "code",
   "execution_count": 5,
   "id": "6faa0065",
   "metadata": {},
   "outputs": [
    {
     "name": "stdout",
     "output_type": "stream",
     "text": [
      "Defaulting to user installation because normal site-packages is not writeable\n",
      "Collecting beautifulsoup4\n",
      "  Using cached beautifulsoup4-4.13.4-py3-none-any.whl.metadata (3.8 kB)\n",
      "Collecting soupsieve>1.2 (from beautifulsoup4)\n",
      "  Using cached soupsieve-2.7-py3-none-any.whl.metadata (4.6 kB)\n",
      "Collecting typing-extensions>=4.0.0 (from beautifulsoup4)\n",
      "  Downloading typing_extensions-4.13.2-py3-none-any.whl.metadata (3.0 kB)\n",
      "Using cached beautifulsoup4-4.13.4-py3-none-any.whl (187 kB)\n",
      "Using cached soupsieve-2.7-py3-none-any.whl (36 kB)\n",
      "Downloading typing_extensions-4.13.2-py3-none-any.whl (45 kB)\n",
      "Installing collected packages: typing-extensions, soupsieve, beautifulsoup4\n",
      "Successfully installed beautifulsoup4-4.13.4 soupsieve-2.7 typing-extensions-4.13.2\n"
     ]
    },
    {
     "name": "stderr",
     "output_type": "stream",
     "text": [
      "\n",
      "[notice] A new release of pip is available: 25.0.1 -> 25.1.1\n",
      "[notice] To update, run: C:\\Users\\acer\\AppData\\Local\\Microsoft\\WindowsApps\\PythonSoftwareFoundation.Python.3.12_qbz5n2kfra8p0\\python.exe -m pip install --upgrade pip\n"
     ]
    }
   ],
   "source": [
    "!pip install beautifulsoup4\n"
   ]
  },
  {
   "cell_type": "code",
   "execution_count": 6,
   "id": "c7380306",
   "metadata": {},
   "outputs": [
    {
     "name": "stdout",
     "output_type": "stream",
     "text": [
      "All imports successful!\n"
     ]
    }
   ],
   "source": [
    "import pandas as pd\n",
    "import requests\n",
    "from bs4 import BeautifulSoup\n",
    "import time\n",
    "\n",
    "print(\"All imports successful!\")\n"
   ]
  },
  {
   "cell_type": "code",
   "execution_count": 10,
   "id": "677e8278",
   "metadata": {},
   "outputs": [
    {
     "data": {
      "text/html": [
       "<div>\n",
       "<style scoped>\n",
       "    .dataframe tbody tr th:only-of-type {\n",
       "        vertical-align: middle;\n",
       "    }\n",
       "\n",
       "    .dataframe tbody tr th {\n",
       "        vertical-align: top;\n",
       "    }\n",
       "\n",
       "    .dataframe thead th {\n",
       "        text-align: right;\n",
       "    }\n",
       "</style>\n",
       "<table border=\"1\" class=\"dataframe\">\n",
       "  <thead>\n",
       "    <tr style=\"text-align: right;\">\n",
       "      <th></th>\n",
       "      <th>company_name</th>\n",
       "    </tr>\n",
       "  </thead>\n",
       "  <tbody>\n",
       "    <tr>\n",
       "      <th>0</th>\n",
       "      <td>OpenAI</td>\n",
       "    </tr>\n",
       "    <tr>\n",
       "      <th>1</th>\n",
       "      <td>DeepMind</td>\n",
       "    </tr>\n",
       "    <tr>\n",
       "      <th>2</th>\n",
       "      <td>Zoho</td>\n",
       "    </tr>\n",
       "    <tr>\n",
       "      <th>3</th>\n",
       "      <td>Freshworks</td>\n",
       "    </tr>\n",
       "  </tbody>\n",
       "</table>\n",
       "</div>"
      ],
      "text/plain": [
       "  company_name\n",
       "0       OpenAI\n",
       "1     DeepMind\n",
       "2         Zoho\n",
       "3   Freshworks"
      ]
     },
     "execution_count": 10,
     "metadata": {},
     "output_type": "execute_result"
    }
   ],
   "source": [
    "# Load input CSV with a column named 'company_name'\n",
    "df = pd.read_csv('companies.csv')\n",
    "df.head()\n"
   ]
  },
  {
   "cell_type": "code",
   "execution_count": 9,
   "id": "a59790a2",
   "metadata": {},
   "outputs": [
    {
     "name": "stdout",
     "output_type": "stream",
     "text": [
      "companies.csv created with sample data.\n"
     ]
    }
   ],
   "source": [
    "import pandas as pd\n",
    "\n",
    "# Create a DataFrame with company names\n",
    "data = {\n",
    "    'company_name': ['OpenAI', 'DeepMind', 'Zoho', 'Freshworks']\n",
    "}\n",
    "\n",
    "df = pd.DataFrame(data)\n",
    "\n",
    "# Save to CSV\n",
    "df.to_csv('companies.csv', index=False)\n",
    "\n",
    "print(\"companies.csv created with sample data.\")\n"
   ]
  },
  {
   "cell_type": "code",
   "execution_count": 11,
   "id": "2d8b9279",
   "metadata": {},
   "outputs": [],
   "source": [
    "def guess_domain(company_name):\n",
    "    # Basic heuristic: assume domain is companyname.com\n",
    "    domain = company_name.lower().replace(\" \", \"\") + \".com\"\n",
    "    return domain\n"
   ]
  },
  {
   "cell_type": "code",
   "execution_count": 12,
   "id": "22fe85f2",
   "metadata": {},
   "outputs": [
    {
     "name": "stdout",
     "output_type": "stream",
     "text": [
      "OpenAI → openai.com\n",
      "DeepMind → deepmind.com\n",
      "Zoho → zoho.com\n",
      "Freshworks → freshworks.com\n"
     ]
    }
   ],
   "source": [
    "companies = [\"OpenAI\", \"DeepMind\", \"Zoho\", \"Freshworks\"]\n",
    "for name in companies:\n",
    "    print(f\"{name} → {guess_domain(name)}\")\n"
   ]
  },
  {
   "cell_type": "code",
   "execution_count": 13,
   "id": "cff685e2",
   "metadata": {},
   "outputs": [],
   "source": [
    "import requests\n",
    "from bs4 import BeautifulSoup\n",
    "\n",
    "def scrape_homepage(domain):\n",
    "    url = f\"https://{domain}\"\n",
    "    try:\n",
    "        response = requests.get(url, timeout=10)\n",
    "        soup = BeautifulSoup(response.text, \"html.parser\")\n",
    "\n",
    "        # Remove scripts and styles\n",
    "        for script in soup([\"script\", \"style\"]):\n",
    "            script.decompose()\n",
    "\n",
    "        text = soup.get_text(separator=' ', strip=True)\n",
    "        return text[:3000]  # limit for LLM input\n",
    "    except Exception as e:\n",
    "        print(f\"Failed to fetch {url}: {e}\")\n",
    "        return \"\"\n"
   ]
  },
  {
   "cell_type": "code",
   "execution_count": 14,
   "id": "f9066e0a",
   "metadata": {},
   "outputs": [
    {
     "name": "stdout",
     "output_type": "stream",
     "text": [
      "Enable JavaScript and cookies to continue\n"
     ]
    }
   ],
   "source": [
    "domain = guess_domain(\"OpenAI\")\n",
    "homepage_text = scrape_homepage(domain)\n",
    "print(homepage_text[:500])  # just print first 500 chars to preview\n"
   ]
  },
  {
   "cell_type": "code",
   "execution_count": 15,
   "id": "42482ffb",
   "metadata": {},
   "outputs": [
    {
     "name": "stdout",
     "output_type": "stream",
     "text": [
      "ERROR: The request could not be satisfied 403 ERROR The request could not be satisfied. Request blocked.\n",
      "We can't connect to the server for this app or website at this time. There might be too much traffic or a configuration error. Try again later, or contact the app or website owner. If you provide content to customers through CloudFront, you can find steps to troubleshoot and help prevent this error by reviewing the CloudFront documentation. Generated by cloudfront (CloudFront)\n",
      "Request ID: 0GX\n"
     ]
    }
   ],
   "source": [
    "domain = guess_domain(\"Freshworks\")\n",
    "homepage_text = scrape_homepage(domain)\n",
    "print(homepage_text[:500])\n"
   ]
  },
  {
   "cell_type": "code",
   "execution_count": 25,
   "id": "7c62b6de",
   "metadata": {},
   "outputs": [],
   "source": [
    "from selenium import webdriver\n",
    "from selenium.webdriver.chrome.service import Service\n",
    "from selenium.webdriver.chrome.options import Options\n",
    "\n",
    "def scrape_with_selenium(domain):\n",
    "    url = f\"https://{domain}\"\n",
    "    options = Options()\n",
    "    options.headless = True\n",
    "    service = Service(\"C:/Users/acer/Desktop/AI bot/chromedriver-win64/\")\n",
    "    driver = webdriver.Chrome(service=service, options=options)\n",
    "\n",
    "    try:\n",
    "        driver.get(url)\n",
    "        text = driver.find_element(\"tag name\", \"body\").text\n",
    "        return text[:3000]\n",
    "    except Exception as e:\n",
    "        print(f\"Selenium failed for {url}: {e}\")\n",
    "        return \"\"\n",
    "    finally:\n",
    "        driver.quit()\n"
   ]
  },
  {
   "cell_type": "code",
   "execution_count": 24,
   "id": "3e7d1fcf",
   "metadata": {},
   "outputs": [
    {
     "name": "stdout",
     "output_type": "stream",
     "text": [
      "Defaulting to user installation because normal site-packages is not writeable\n",
      "Collecting selenium\n",
      "  Using cached selenium-4.33.0-py3-none-any.whl.metadata (7.5 kB)\n",
      "Requirement already satisfied: urllib3~=2.4.0 in c:\\users\\acer\\appdata\\local\\packages\\pythonsoftwarefoundation.python.3.12_qbz5n2kfra8p0\\localcache\\local-packages\\python312\\site-packages (from urllib3[socks]~=2.4.0->selenium) (2.4.0)\n",
      "Collecting trio~=0.30.0 (from selenium)\n",
      "  Using cached trio-0.30.0-py3-none-any.whl.metadata (8.5 kB)\n",
      "Collecting trio-websocket~=0.12.2 (from selenium)\n",
      "  Using cached trio_websocket-0.12.2-py3-none-any.whl.metadata (5.1 kB)\n",
      "Requirement already satisfied: certifi>=2025.4.26 in c:\\users\\acer\\appdata\\local\\packages\\pythonsoftwarefoundation.python.3.12_qbz5n2kfra8p0\\localcache\\local-packages\\python312\\site-packages (from selenium) (2025.4.26)\n",
      "Requirement already satisfied: typing_extensions~=4.13.2 in c:\\users\\acer\\appdata\\local\\packages\\pythonsoftwarefoundation.python.3.12_qbz5n2kfra8p0\\localcache\\local-packages\\python312\\site-packages (from selenium) (4.13.2)\n",
      "Collecting websocket-client~=1.8.0 (from selenium)\n",
      "  Using cached websocket_client-1.8.0-py3-none-any.whl.metadata (8.0 kB)\n",
      "Collecting attrs>=23.2.0 (from trio~=0.30.0->selenium)\n",
      "  Using cached attrs-25.3.0-py3-none-any.whl.metadata (10 kB)\n",
      "Collecting sortedcontainers (from trio~=0.30.0->selenium)\n",
      "  Using cached sortedcontainers-2.4.0-py2.py3-none-any.whl.metadata (10 kB)\n",
      "Requirement already satisfied: idna in c:\\users\\acer\\appdata\\local\\packages\\pythonsoftwarefoundation.python.3.12_qbz5n2kfra8p0\\localcache\\local-packages\\python312\\site-packages (from trio~=0.30.0->selenium) (3.10)\n",
      "Collecting outcome (from trio~=0.30.0->selenium)\n",
      "  Using cached outcome-1.3.0.post0-py2.py3-none-any.whl.metadata (2.6 kB)\n",
      "Collecting sniffio>=1.3.0 (from trio~=0.30.0->selenium)\n",
      "  Using cached sniffio-1.3.1-py3-none-any.whl.metadata (3.9 kB)\n",
      "Collecting cffi>=1.14 (from trio~=0.30.0->selenium)\n",
      "  Downloading cffi-1.17.1-cp312-cp312-win_amd64.whl.metadata (1.6 kB)\n",
      "Collecting wsproto>=0.14 (from trio-websocket~=0.12.2->selenium)\n",
      "  Using cached wsproto-1.2.0-py3-none-any.whl.metadata (5.6 kB)\n",
      "Collecting pysocks!=1.5.7,<2.0,>=1.5.6 (from urllib3[socks]~=2.4.0->selenium)\n",
      "  Using cached PySocks-1.7.1-py3-none-any.whl.metadata (13 kB)\n",
      "Collecting pycparser (from cffi>=1.14->trio~=0.30.0->selenium)\n",
      "  Using cached pycparser-2.22-py3-none-any.whl.metadata (943 bytes)\n",
      "Collecting h11<1,>=0.9.0 (from wsproto>=0.14->trio-websocket~=0.12.2->selenium)\n",
      "  Using cached h11-0.16.0-py3-none-any.whl.metadata (8.3 kB)\n",
      "Using cached selenium-4.33.0-py3-none-any.whl (9.4 MB)\n",
      "Using cached trio-0.30.0-py3-none-any.whl (499 kB)\n",
      "Using cached trio_websocket-0.12.2-py3-none-any.whl (21 kB)\n",
      "Using cached websocket_client-1.8.0-py3-none-any.whl (58 kB)\n",
      "Using cached attrs-25.3.0-py3-none-any.whl (63 kB)\n",
      "Downloading cffi-1.17.1-cp312-cp312-win_amd64.whl (181 kB)\n",
      "Using cached outcome-1.3.0.post0-py2.py3-none-any.whl (10 kB)\n",
      "Using cached PySocks-1.7.1-py3-none-any.whl (16 kB)\n",
      "Using cached sniffio-1.3.1-py3-none-any.whl (10 kB)\n",
      "Using cached wsproto-1.2.0-py3-none-any.whl (24 kB)\n",
      "Using cached sortedcontainers-2.4.0-py2.py3-none-any.whl (29 kB)\n",
      "Using cached h11-0.16.0-py3-none-any.whl (37 kB)\n",
      "Using cached pycparser-2.22-py3-none-any.whl (117 kB)\n",
      "Installing collected packages: sortedcontainers, websocket-client, sniffio, pysocks, pycparser, h11, attrs, wsproto, outcome, cffi, trio, trio-websocket, selenium\n",
      "Successfully installed attrs-25.3.0 cffi-1.17.1 h11-0.16.0 outcome-1.3.0.post0 pycparser-2.22 pysocks-1.7.1 selenium-4.33.0 sniffio-1.3.1 sortedcontainers-2.4.0 trio-0.30.0 trio-websocket-0.12.2 websocket-client-1.8.0 wsproto-1.2.0\n"
     ]
    },
    {
     "name": "stderr",
     "output_type": "stream",
     "text": [
      "\n",
      "[notice] A new release of pip is available: 25.0.1 -> 25.1.1\n",
      "[notice] To update, run: C:\\Users\\acer\\AppData\\Local\\Microsoft\\WindowsApps\\PythonSoftwareFoundation.Python.3.12_qbz5n2kfra8p0\\python.exe -m pip install --upgrade pip\n"
     ]
    }
   ],
   "source": [
    "!pip install selenium\n"
   ]
  },
  {
   "cell_type": "code",
   "execution_count": 26,
   "id": "97e9bac6",
   "metadata": {},
   "outputs": [],
   "source": [
    "service = Service(\"C:/Users/acer/Desktop/AI bot/chromedriver-win64/chromedriver.exe\")\n"
   ]
  },
  {
   "cell_type": "code",
   "execution_count": 28,
   "id": "bc30cd30",
   "metadata": {},
   "outputs": [
    {
     "name": "stdout",
     "output_type": "stream",
     "text": [
      "Zoho | Cloud Software Suite for Businesses\n"
     ]
    }
   ],
   "source": [
    "from selenium import webdriver\n",
    "from selenium.webdriver.chrome.service import Service\n",
    "from selenium.webdriver.chrome.options import Options\n",
    "\n",
    "options = Options()\n",
    "options.headless = True  # Optional: keeps browser hidden\n",
    "\n",
    "# ✅ Update this path to the full path to `chromedriver.exe`\n",
    "service = Service(r\"C:\\Users\\acer\\Desktop\\AI bot\\chromedriver-win64\\chromedriver-win64\\chromedriver.exe\")\n",
    "\n",
    "driver = webdriver.Chrome(service=service, options=options)\n",
    "\n",
    "driver.get(\"https://zoho.com\")  # Test with any site\n",
    "print(driver.title)\n",
    "driver.quit()\n"
   ]
  },
  {
   "cell_type": "code",
   "execution_count": 29,
   "id": "18720100",
   "metadata": {},
   "outputs": [
    {
     "name": "stdout",
     "output_type": "stream",
     "text": [
      "Join us at Zoholics India—our signature user conference! Grab early bird tickets\n",
      "Zoho.com\n",
      "ProductsEnterpriseCustomers\n",
      "Partners\n",
      "Company\n",
      "    Sign In\n",
      "Your life's work,\n",
      "powered by our life's work\n",
      "A unique and powerful software suite to transform the way you work. Designed for businesses of all sizes, built by a company that values your privacy.\n",
      "GET STARTED FOR FREE\n",
      "FEATURED APPS\n",
      " CRM\n",
      "Comprehensive CRM platform for customer-facing teams.\n",
      " Mail\n",
      "Secure email service for teams of all sizes.\n",
      " Creator\n",
      "Build custom apps to simplify business processes.\n",
      " Books\n",
      "Powerful accounting platform for growing businesses.\n",
      " People\n",
      "Organize, automate, and simplify your HR processes.\n",
      "EXPLORE ALL PRODUCTS\n",
      "All-in-one suite\n",
      "Zoho One\n",
      "The operating system for business\n",
      "Run your entire business on Zoho with our unified cloud software, designed to help you break down silos between departments and increase organizational efficiency.\n",
      "TRY ZOHO ONE\n",
      " \"You can be a startup, mid-sized company, or an enterprise—Zoho One is a b\n"
     ]
    }
   ],
   "source": [
    "from selenium import webdriver\n",
    "from selenium.webdriver.chrome.service import Service\n",
    "from selenium.webdriver.chrome.options import Options\n",
    "import time\n",
    "\n",
    "options = Options()\n",
    "options.headless = True  # You can set this to False if you want to see the browser\n",
    "service = Service(r\"C:\\Users\\acer\\Desktop\\AI bot\\chromedriver-win64\\chromedriver-win64\\chromedriver.exe\")\n",
    "\n",
    "driver = webdriver.Chrome(service=service, options=options)\n",
    "\n",
    "driver.get(\"https://zoho.com\")\n",
    "time.sleep(3)  # wait for page to fully load\n",
    "\n",
    "# 🔍 Grab some text from the page\n",
    "text = driver.find_element(\"tag name\", \"body\").text\n",
    "print(text[:1000])  # print only first 1000 characters\n",
    "\n",
    "driver.quit()\n"
   ]
  },
  {
   "cell_type": "code",
   "execution_count": 30,
   "id": "d8d42ea8",
   "metadata": {},
   "outputs": [],
   "source": [
    "def scrape_homepage_text(domain):\n",
    "    from selenium import webdriver\n",
    "    from selenium.webdriver.chrome.service import Service\n",
    "    from selenium.webdriver.chrome.options import Options\n",
    "    import time\n",
    "\n",
    "    options = Options()\n",
    "    options.headless = True\n",
    "    service = Service(r\"C:\\Users\\acer\\Desktop\\AI bot\\chromedriver-win64\\chromedriver-win64\\chromedriver.exe\")\n",
    "\n",
    "    driver = webdriver.Chrome(service=service, options=options)\n",
    "    \n",
    "    try:\n",
    "        driver.get(\"https://\" + domain)\n",
    "        time.sleep(3)\n",
    "        text = driver.find_element(\"tag name\", \"body\").text\n",
    "    except Exception as e:\n",
    "        text = f\"Error loading {domain}: {e}\"\n",
    "    finally:\n",
    "        driver.quit()\n",
    "    \n",
    "    return text\n"
   ]
  },
  {
   "cell_type": "code",
   "execution_count": 31,
   "id": "12be42db",
   "metadata": {},
   "outputs": [
    {
     "name": "stdout",
     "output_type": "stream",
     "text": [
      "\n",
      "--- zoho.com ---\n",
      "\n",
      "Join us at Zoholics India—our signature user conference! Grab early bird tickets\n",
      "Zoho.com\n",
      "ProductsEnterpriseCustomers\n",
      "Partners\n",
      "Company\n",
      "    Sign In\n",
      "Your life's work,\n",
      "powered by our life's work\n",
      "A unique and powerful software suite to transform the way you work. Designed for businesses of all sizes, built by a company that values your privacy.\n",
      "GET STARTED FOR FREE\n",
      "FEATURED APPS\n",
      " CRM\n",
      "Comprehensive CRM platform for customer-facing teams.\n",
      " Mail\n",
      "Secure email service for teams of all sizes.\n",
      " Creator\n",
      "Bui\n",
      "\n",
      "--- freshworks.com ---\n",
      "\n",
      "Ready to eliminate complexity? Tune in to Refresh Virtual Summit on June 12th Register now\n",
      "Try it Free\n",
      "Software shouldn’t stand in the way of exceptional service\n",
      "AI-powered customer and IT service software that’s just as powerful as it is easy to use\n",
      "Try it Free\n",
      "Book a demo\n",
      "Trusted by 73,000+ businesses worldwide\n",
      "Uncomplicated service software\n",
      "Efficient, scalable IT services and better, faster customer service. Give teams the AI-powered tools to do more with ease.\n",
      "IT Service\n",
      "Customer Service\n",
      "SUP\n",
      "\n",
      "--- hubspot.com ---\n",
      "\n",
      "×\n",
      "We use cookies to improve HubSpot’s site. Some cookies are necessary for our website and services to function properly. Other cookies are optional and help personalize your experience, including advertising and analytics. You can consent to all cookies, decline all optional cookies, or manage optional cookies. Without a selection, our default cookie settings will apply. You can change your preferences at any time. To learn more, check out our Cookie Policy.\n",
      "Accept all\n",
      "Decline all\n",
      "Manage Cookie\n"
     ]
    }
   ],
   "source": [
    "domains = [\"zoho.com\", \"freshworks.com\", \"hubspot.com\"]\n",
    "\n",
    "for domain in domains:\n",
    "    print(f\"\\n--- {domain} ---\\n\")\n",
    "    print(scrape_homepage_text(domain)[:500])  # only first 500 chars\n"
   ]
  },
  {
   "cell_type": "code",
   "execution_count": 32,
   "id": "7e340f36",
   "metadata": {},
   "outputs": [
    {
     "name": "stdout",
     "output_type": "stream",
     "text": [
      "Scraping openai.com...\n",
      "Scraping deepmind.com...\n",
      "Scraping zoho.com...\n",
      "Scraping freshworks.com...\n",
      "✅ Saved to enriched_leads.csv\n"
     ]
    }
   ],
   "source": [
    "import pandas as pd\n",
    "from selenium import webdriver\n",
    "from selenium.webdriver.chrome.service import Service\n",
    "from selenium.webdriver.chrome.options import Options\n",
    "import time\n",
    "\n",
    "# Load companies\n",
    "df = pd.read_csv(\"companies.csv\")\n",
    "\n",
    "# Convert company names to domains (naive method)\n",
    "def company_to_domain(name):\n",
    "    return name.lower().replace(\" \", \"\") + \".com\"\n",
    "\n",
    "# Selenium setup\n",
    "def scrape_with_selenium(domain):\n",
    "    url = f\"https://{domain}\"\n",
    "    \n",
    "    options = Options()\n",
    "    options.headless = True\n",
    "    service = Service(r\"C:\\Users\\acer\\Desktop\\AI bot\\chromedriver-win64\\chromedriver-win64\\chromedriver.exe\")  # ✅ double-check this path!\n",
    "    driver = webdriver.Chrome(service=service, options=options)\n",
    "\n",
    "    try:\n",
    "        driver.get(url)\n",
    "        time.sleep(3)  # wait for page to load\n",
    "        text = driver.find_element(\"tag name\", \"body\").text\n",
    "    except Exception as e:\n",
    "        text = f\"Error: {str(e)}\"\n",
    "    finally:\n",
    "        driver.quit()\n",
    "    \n",
    "    return text\n",
    "\n",
    "# Enrich each company\n",
    "results = []\n",
    "for name in df[\"company_name\"]:\n",
    "    domain = company_to_domain(name)\n",
    "    print(f\"Scraping {domain}...\")\n",
    "    homepage_text = scrape_with_selenium(domain)\n",
    "    results.append({\n",
    "        \"company_name\": name,\n",
    "        \"domain\": domain,\n",
    "        \"homepage_text\": homepage_text[:1000]  # Save only first 1000 chars\n",
    "    })\n",
    "\n",
    "# Save to CSV\n",
    "enriched_df = pd.DataFrame(results)\n",
    "enriched_df.to_csv(\"enriched_leads.csv\", index=False)\n",
    "print(\"✅ Saved to enriched_leads.csv\")\n"
   ]
  },
  {
   "cell_type": "code",
   "execution_count": 36,
   "id": "1b55af76",
   "metadata": {},
   "outputs": [],
   "source": [
    "import os\n",
    "import openai\n",
    "\n",
    "os.environ[\"OPENAI_API_KEY\"] = \"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\"\n",
    "openai.api_key = os.environ[\"OPENAI_API_KEY\"]\n",
    "openai.api_base = \"https://api.groq.com/openai/v1\"\n"
   ]
  },
  {
   "cell_type": "code",
   "execution_count": 35,
   "id": "455f3800",
   "metadata": {},
   "outputs": [
    {
     "name": "stdout",
     "output_type": "stream",
     "text": [
      "Defaulting to user installation because normal site-packages is not writeable\n",
      "Collecting openai\n",
      "  Using cached openai-1.82.1-py3-none-any.whl.metadata (25 kB)\n",
      "Collecting anyio<5,>=3.5.0 (from openai)\n",
      "  Using cached anyio-4.9.0-py3-none-any.whl.metadata (4.7 kB)\n",
      "Collecting distro<2,>=1.7.0 (from openai)\n",
      "  Using cached distro-1.9.0-py3-none-any.whl.metadata (6.8 kB)\n",
      "Collecting httpx<1,>=0.23.0 (from openai)\n",
      "  Using cached httpx-0.28.1-py3-none-any.whl.metadata (7.1 kB)\n",
      "Collecting jiter<1,>=0.4.0 (from openai)\n",
      "  Downloading jiter-0.10.0-cp312-cp312-win_amd64.whl.metadata (5.3 kB)\n",
      "Collecting pydantic<3,>=1.9.0 (from openai)\n",
      "  Using cached pydantic-2.11.5-py3-none-any.whl.metadata (67 kB)\n",
      "Requirement already satisfied: sniffio in c:\\users\\acer\\appdata\\local\\packages\\pythonsoftwarefoundation.python.3.12_qbz5n2kfra8p0\\localcache\\local-packages\\python312\\site-packages (from openai) (1.3.1)\n",
      "Collecting tqdm>4 (from openai)\n",
      "  Using cached tqdm-4.67.1-py3-none-any.whl.metadata (57 kB)\n",
      "Requirement already satisfied: typing-extensions<5,>=4.11 in c:\\users\\acer\\appdata\\local\\packages\\pythonsoftwarefoundation.python.3.12_qbz5n2kfra8p0\\localcache\\local-packages\\python312\\site-packages (from openai) (4.13.2)\n",
      "Requirement already satisfied: idna>=2.8 in c:\\users\\acer\\appdata\\local\\packages\\pythonsoftwarefoundation.python.3.12_qbz5n2kfra8p0\\localcache\\local-packages\\python312\\site-packages (from anyio<5,>=3.5.0->openai) (3.10)\n",
      "Requirement already satisfied: certifi in c:\\users\\acer\\appdata\\local\\packages\\pythonsoftwarefoundation.python.3.12_qbz5n2kfra8p0\\localcache\\local-packages\\python312\\site-packages (from httpx<1,>=0.23.0->openai) (2025.4.26)\n",
      "Collecting httpcore==1.* (from httpx<1,>=0.23.0->openai)\n",
      "  Using cached httpcore-1.0.9-py3-none-any.whl.metadata (21 kB)\n",
      "Requirement already satisfied: h11>=0.16 in c:\\users\\acer\\appdata\\local\\packages\\pythonsoftwarefoundation.python.3.12_qbz5n2kfra8p0\\localcache\\local-packages\\python312\\site-packages (from httpcore==1.*->httpx<1,>=0.23.0->openai) (0.16.0)\n",
      "Collecting annotated-types>=0.6.0 (from pydantic<3,>=1.9.0->openai)\n",
      "  Using cached annotated_types-0.7.0-py3-none-any.whl.metadata (15 kB)\n",
      "Collecting pydantic-core==2.33.2 (from pydantic<3,>=1.9.0->openai)\n",
      "  Downloading pydantic_core-2.33.2-cp312-cp312-win_amd64.whl.metadata (6.9 kB)\n",
      "Collecting typing-inspection>=0.4.0 (from pydantic<3,>=1.9.0->openai)\n",
      "  Using cached typing_inspection-0.4.1-py3-none-any.whl.metadata (2.6 kB)\n",
      "Requirement already satisfied: colorama in c:\\users\\acer\\appdata\\local\\packages\\pythonsoftwarefoundation.python.3.12_qbz5n2kfra8p0\\localcache\\local-packages\\python312\\site-packages (from tqdm>4->openai) (0.4.6)\n",
      "Using cached openai-1.82.1-py3-none-any.whl (720 kB)\n",
      "Using cached anyio-4.9.0-py3-none-any.whl (100 kB)\n",
      "Using cached distro-1.9.0-py3-none-any.whl (20 kB)\n",
      "Using cached httpx-0.28.1-py3-none-any.whl (73 kB)\n",
      "Using cached httpcore-1.0.9-py3-none-any.whl (78 kB)\n",
      "Downloading jiter-0.10.0-cp312-cp312-win_amd64.whl (206 kB)\n",
      "Using cached pydantic-2.11.5-py3-none-any.whl (444 kB)\n",
      "Downloading pydantic_core-2.33.2-cp312-cp312-win_amd64.whl (2.0 MB)\n",
      "   ---------------------------------------- 0.0/2.0 MB ? eta -:--:--\n",
      "   ---------- ----------------------------- 0.5/2.0 MB 3.4 MB/s eta 0:00:01\n",
      "   -------------------------- ------------- 1.3/2.0 MB 3.4 MB/s eta 0:00:01\n",
      "   ---------------------------------------- 2.0/2.0 MB 3.1 MB/s eta 0:00:00\n",
      "Using cached tqdm-4.67.1-py3-none-any.whl (78 kB)\n",
      "Using cached annotated_types-0.7.0-py3-none-any.whl (13 kB)\n",
      "Using cached typing_inspection-0.4.1-py3-none-any.whl (14 kB)\n",
      "Installing collected packages: typing-inspection, tqdm, pydantic-core, jiter, httpcore, distro, anyio, annotated-types, pydantic, httpx, openai\n",
      "Successfully installed annotated-types-0.7.0 anyio-4.9.0 distro-1.9.0 httpcore-1.0.9 httpx-0.28.1 jiter-0.10.0 openai-1.82.1 pydantic-2.11.5 pydantic-core-2.33.2 tqdm-4.67.1 typing-inspection-0.4.1\n"
     ]
    },
    {
     "name": "stderr",
     "output_type": "stream",
     "text": [
      "\n",
      "[notice] A new release of pip is available: 25.0.1 -> 25.1.1\n",
      "[notice] To update, run: C:\\Users\\acer\\AppData\\Local\\Microsoft\\WindowsApps\\PythonSoftwareFoundation.Python.3.12_qbz5n2kfra8p0\\python.exe -m pip install --upgrade pip\n"
     ]
    }
   ],
   "source": [
    "!pip install openai"
   ]
  },
  {
   "cell_type": "code",
   "execution_count": 38,
   "id": "17ed7c4d",
   "metadata": {},
   "outputs": [],
   "source": [
    "def enrich_info_with_groq(text):\n",
    "    prompt = f\"\"\"\n",
    "    Given the homepage content below, do the following:\n",
    "    1. Summarize what this company does in 1-2 sentences.\n",
    "    2. Classify the company (e.g., AI, SaaS, HR, CRM, DevTools, FinTech, etc.)\n",
    "    3. Suggest 1 automation idea using AI that could help their business.\n",
    "\n",
    "    Homepage content:\n",
    "    \\\"\\\"\\\"\n",
    "    {text[:3000]}\n",
    "    \\\"\\\"\\\"\n",
    "    \"\"\"\n",
    "\n",
    "    try:\n",
    "        response = openai.ChatCompletion.create(\n",
    "            model=\"mixtral-8x7b-32768\",  # or llama3-70b-8192\n",
    "            messages=[{\"role\": \"user\", \"content\": prompt}]\n",
    "        )\n",
    "        return response[\"choices\"][0][\"message\"][\"content\"]\n",
    "    except Exception as e:\n",
    "        return f\"Error: {e}\"\n"
   ]
  },
  {
   "cell_type": "code",
   "execution_count": 40,
   "id": "a369da40",
   "metadata": {},
   "outputs": [],
   "source": [
    "from selenium import webdriver\n",
    "from selenium.webdriver.chrome.service import Service\n",
    "from selenium.webdriver.chrome.options import Options\n",
    "from selenium.webdriver.common.by import By\n",
    "import time\n",
    "\n",
    "def get_homepage_text(company_name):\n",
    "    try:\n",
    "        # Setup headless browser\n",
    "        options = Options()\n",
    "        options.add_argument(\"--headless\")\n",
    "        service = Service(\"path/to/chromedriver\")  # Update this path!\n",
    "        driver = webdriver.Chrome(service=service, options=options)\n",
    "\n",
    "        # Google the company and go to the first link\n",
    "        search_url = f\"https://www.google.com/search?q={company_name} official site\"\n",
    "        driver.get(search_url)\n",
    "        time.sleep(2)\n",
    "\n",
    "        # Click first result\n",
    "        first_result = driver.find_element(By.CSS_SELECTOR, 'div.yuRUbf > a')\n",
    "        homepage = first_result.get_attribute(\"href\")\n",
    "        driver.get(homepage)\n",
    "        time.sleep(2)\n",
    "\n",
    "        # Get page text\n",
    "        text = driver.find_element(By.TAG_NAME, \"body\").text\n",
    "        driver.quit()\n",
    "\n",
    "        return text[:3000]  # limit to 3000 chars\n",
    "\n",
    "    except Exception as e:\n",
    "        return f\"Error: {e}\"\n"
   ]
  },
  {
   "cell_type": "code",
   "execution_count": 41,
   "id": "1044ccf8",
   "metadata": {},
   "outputs": [],
   "source": [
    "df[\"homepage_text\"] = df[\"company_name\"].apply(get_homepage_text)\n"
   ]
  },
  {
   "cell_type": "code",
   "execution_count": 42,
   "id": "fb40b221",
   "metadata": {},
   "outputs": [],
   "source": [
    "df[\"ai_enrichment\"] = df[\"homepage_text\"].apply(enrich_info_with_groq)\n"
   ]
  },
  {
   "cell_type": "code",
   "execution_count": 43,
   "id": "61630619",
   "metadata": {},
   "outputs": [],
   "source": [
    "df.to_csv(\"enriched_output.csv\", index=False)\n"
   ]
  },
  {
   "cell_type": "code",
   "execution_count": 44,
   "id": "0f5420d4",
   "metadata": {},
   "outputs": [
    {
     "name": "stdout",
     "output_type": "stream",
     "text": [
      "Defaulting to user installation because normal site-packages is not writeable\n",
      "Requirement already satisfied: openai in c:\\users\\acer\\appdata\\local\\packages\\pythonsoftwarefoundation.python.3.12_qbz5n2kfra8p0\\localcache\\local-packages\\python312\\site-packages (1.82.1)\n",
      "Requirement already satisfied: anyio<5,>=3.5.0 in c:\\users\\acer\\appdata\\local\\packages\\pythonsoftwarefoundation.python.3.12_qbz5n2kfra8p0\\localcache\\local-packages\\python312\\site-packages (from openai) (4.9.0)\n",
      "Requirement already satisfied: distro<2,>=1.7.0 in c:\\users\\acer\\appdata\\local\\packages\\pythonsoftwarefoundation.python.3.12_qbz5n2kfra8p0\\localcache\\local-packages\\python312\\site-packages (from openai) (1.9.0)\n",
      "Requirement already satisfied: httpx<1,>=0.23.0 in c:\\users\\acer\\appdata\\local\\packages\\pythonsoftwarefoundation.python.3.12_qbz5n2kfra8p0\\localcache\\local-packages\\python312\\site-packages (from openai) (0.28.1)\n",
      "Requirement already satisfied: jiter<1,>=0.4.0 in c:\\users\\acer\\appdata\\local\\packages\\pythonsoftwarefoundation.python.3.12_qbz5n2kfra8p0\\localcache\\local-packages\\python312\\site-packages (from openai) (0.10.0)\n",
      "Requirement already satisfied: pydantic<3,>=1.9.0 in c:\\users\\acer\\appdata\\local\\packages\\pythonsoftwarefoundation.python.3.12_qbz5n2kfra8p0\\localcache\\local-packages\\python312\\site-packages (from openai) (2.11.5)\n",
      "Requirement already satisfied: sniffio in c:\\users\\acer\\appdata\\local\\packages\\pythonsoftwarefoundation.python.3.12_qbz5n2kfra8p0\\localcache\\local-packages\\python312\\site-packages (from openai) (1.3.1)\n",
      "Requirement already satisfied: tqdm>4 in c:\\users\\acer\\appdata\\local\\packages\\pythonsoftwarefoundation.python.3.12_qbz5n2kfra8p0\\localcache\\local-packages\\python312\\site-packages (from openai) (4.67.1)\n",
      "Requirement already satisfied: typing-extensions<5,>=4.11 in c:\\users\\acer\\appdata\\local\\packages\\pythonsoftwarefoundation.python.3.12_qbz5n2kfra8p0\\localcache\\local-packages\\python312\\site-packages (from openai) (4.13.2)\n",
      "Requirement already satisfied: idna>=2.8 in c:\\users\\acer\\appdata\\local\\packages\\pythonsoftwarefoundation.python.3.12_qbz5n2kfra8p0\\localcache\\local-packages\\python312\\site-packages (from anyio<5,>=3.5.0->openai) (3.10)\n",
      "Requirement already satisfied: certifi in c:\\users\\acer\\appdata\\local\\packages\\pythonsoftwarefoundation.python.3.12_qbz5n2kfra8p0\\localcache\\local-packages\\python312\\site-packages (from httpx<1,>=0.23.0->openai) (2025.4.26)\n",
      "Requirement already satisfied: httpcore==1.* in c:\\users\\acer\\appdata\\local\\packages\\pythonsoftwarefoundation.python.3.12_qbz5n2kfra8p0\\localcache\\local-packages\\python312\\site-packages (from httpx<1,>=0.23.0->openai) (1.0.9)\n",
      "Requirement already satisfied: h11>=0.16 in c:\\users\\acer\\appdata\\local\\packages\\pythonsoftwarefoundation.python.3.12_qbz5n2kfra8p0\\localcache\\local-packages\\python312\\site-packages (from httpcore==1.*->httpx<1,>=0.23.0->openai) (0.16.0)\n",
      "Requirement already satisfied: annotated-types>=0.6.0 in c:\\users\\acer\\appdata\\local\\packages\\pythonsoftwarefoundation.python.3.12_qbz5n2kfra8p0\\localcache\\local-packages\\python312\\site-packages (from pydantic<3,>=1.9.0->openai) (0.7.0)\n",
      "Requirement already satisfied: pydantic-core==2.33.2 in c:\\users\\acer\\appdata\\local\\packages\\pythonsoftwarefoundation.python.3.12_qbz5n2kfra8p0\\localcache\\local-packages\\python312\\site-packages (from pydantic<3,>=1.9.0->openai) (2.33.2)\n",
      "Requirement already satisfied: typing-inspection>=0.4.0 in c:\\users\\acer\\appdata\\local\\packages\\pythonsoftwarefoundation.python.3.12_qbz5n2kfra8p0\\localcache\\local-packages\\python312\\site-packages (from pydantic<3,>=1.9.0->openai) (0.4.1)\n",
      "Requirement already satisfied: colorama in c:\\users\\acer\\appdata\\local\\packages\\pythonsoftwarefoundation.python.3.12_qbz5n2kfra8p0\\localcache\\local-packages\\python312\\site-packages (from tqdm>4->openai) (0.4.6)\n"
     ]
    },
    {
     "name": "stderr",
     "output_type": "stream",
     "text": [
      "\n",
      "[notice] A new release of pip is available: 25.0.1 -> 25.1.1\n",
      "[notice] To update, run: C:\\Users\\acer\\AppData\\Local\\Microsoft\\WindowsApps\\PythonSoftwareFoundation.Python.3.12_qbz5n2kfra8p0\\python.exe -m pip install --upgrade pip\n"
     ]
    }
   ],
   "source": [
    "!pip install --upgrade openai\n"
   ]
  },
  {
   "cell_type": "code",
   "execution_count": 45,
   "id": "1d7c7d3b",
   "metadata": {},
   "outputs": [],
   "source": [
    "from selenium.webdriver.chrome.service import Service\n",
    "\n",
    "# ✅ Correct\n",
    "service = Service(\"C:/Users/acer/Desktop/AI bot/chromedriver-win64/chromedriver.exe\")\n"
   ]
  },
  {
   "cell_type": "code",
   "execution_count": 47,
   "id": "c3b89835",
   "metadata": {},
   "outputs": [
    {
     "name": "stdout",
     "output_type": "stream",
     "text": [
      "That's a good start! Please go ahead and share the homepage text of the company you'd like me to analyze. I'll do my best to provide insights on their products, services, mission, values, target audience, and more.\n"
     ]
    }
   ],
   "source": [
    "import openai\n",
    "\n",
    "client = openai.OpenAI(api_key=\"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\", base_url=\"https://api.groq.com/openai/v1\")\n",
    "\n",
    "response = client.chat.completions.create(\n",
    "    model=\"llama3-8b-8192\",\n",
    "    messages=[\n",
    "        {\"role\": \"system\", \"content\": \"You are an AI assistant that analyzes companies.\"},\n",
    "        {\"role\": \"user\", \"content\": \"Here is some company homepage text: ...\"}\n",
    "    ]\n",
    ")\n",
    "\n",
    "print(response.choices[0].message.content)\n"
   ]
  },
  {
   "cell_type": "code",
   "execution_count": 48,
   "id": "9090f1d3",
   "metadata": {},
   "outputs": [
    {
     "name": "stdout",
     "output_type": "stream",
     "text": [
      "Based on the given homepage text, here's what I can infer about the company Zoho:\n",
      "\n",
      "**Mission:** Zoho's mission is not explicitly stated in the text, but it can be inferred that the company aims to help businesses grow by providing a wide range of software solutions.\n",
      "\n",
      "**Products/Services:** Zoho offers a suite of over 55 applications across various business categories, including software for CRM, productivity, marketing, sales, IT, and more.\n",
      "\n",
      "**Values:** The language used in the text suggests that Zoho values innovation, creativity, and a desire to help businesses grow. The phrase \"beautifully smart software\" implies a focus on ease of use, intuitive design, and smart technology.\n",
      "\n",
      "**Potential AI Automation Opportunities:**\n",
      "\n",
      "1. Automation of software development processes: With a large suite of applications, Zoho may be able to leverage AI to automate repetitive tasks, such as testing, debugging, and code review, to increase efficiency and reduce development time.\n",
      "2. Personalized customer experiences: Zoho's software solutions can be used to analyze customer data and behavior, enabling AI-powered personalized recommendations, predictive maintenance, and proactive customer support.\n",
      "3. Intelligent workflow optimization: Zoho can automate and optimize business workflows by analyzing data from various sources and providing actionable insights to streamline operations and improve productivity.\n",
      "4. AI-powered customer service chatbots: Zoho can integrate AI-powered chatbots into its software solutions to provide 24/7 customer support, freeing up human customer support agents to focus on more complex issues.\n",
      "5. Predictive analytics and forecasting: Zoho's business applications can be integrated with AI-powered predictive analytics tools to provide businesses with actionable insights and forecasts, enabling data-driven decision-making.\n",
      "\n",
      "Overall, Zoho's software solutions are well-positioned to leverage AI and machine learning to drive business growth, improve customer experiences, and increase operational efficiency.\n"
     ]
    }
   ],
   "source": [
    "company_homepage_text = \"\"\"\n",
    "Zoho offers beautifully smart software to help you grow your business. With over 55+ apps in nearly every major business category,\n",
    "Zoho is one of the world's most prolific software companies.\n",
    "\"\"\"\n",
    "\n",
    "response = client.chat.completions.create(\n",
    "    model=\"llama3-8b-8192\",\n",
    "    messages=[\n",
    "        {\"role\": \"system\", \"content\": \"You are an AI assistant that analyzes companies. Given the homepage text, identify the company's mission, products, services, values, and potential AI automation opportunities.\"},\n",
    "        {\"role\": \"user\", \"content\": f\"Here is some company homepage text:\\n\\n{company_homepage_text}\"}\n",
    "    ]\n",
    ")\n",
    "\n",
    "print(response.choices[0].message.content)\n"
   ]
  },
  {
   "cell_type": "code",
   "execution_count": 49,
   "id": "d14d90d6",
   "metadata": {},
   "outputs": [],
   "source": [
    "import openai\n",
    "import pandas as pd\n",
    "\n",
    "# Setup Groq-compatible OpenAI client\n",
    "client = openai.OpenAI(\n",
    "    api_key=\"your-groq-api-key\",  # Replace with your actual key\n",
    "    base_url=\"https://api.groq.com/openai/v1\"\n",
    ")\n",
    "\n",
    "# Prompt template\n",
    "prompt_template = \"\"\"\n",
    "You are an AI assistant that analyzes companies based on their homepage text.\n",
    "\n",
    "Based on the homepage text below, identify the following:\n",
    "- Mission\n",
    "- Products/Services\n",
    "- Values\n",
    "- Potential AI Automation Opportunities (5 specific ideas)\n",
    "\n",
    "Respond in the following format:\n",
    "\n",
    "Company: [Company Name]\n",
    "\n",
    "Mission: ...\n",
    "Products & Services: ...\n",
    "Values: ...\n",
    "AI Automation Opportunities:\n",
    "1. ...\n",
    "2. ...\n",
    "3. ...\n",
    "4. ...\n",
    "5. ...\n",
    "\n",
    "Homepage Text:\n",
    "\"{homepage_text}\"\n",
    "\"\"\"\n",
    "\n",
    "# Function to call Groq and format response\n",
    "def enrich_info_with_groq(row):\n",
    "    try:\n",
    "        prompt = prompt_template.format(\n",
    "            homepage_text=row[\"homepage_text\"]\n",
    "        )\n",
    "\n",
    "        response = client.chat.completions.create(\n",
    "            model=\"llama3-8b-8192\",\n",
    "            messages=[\n",
    "                {\"role\": \"system\", \"content\": \"You are an AI assistant that analyzes companies.\"},\n",
    "                {\"role\": \"user\", \"content\": prompt}\n",
    "            ]\n",
    "        )\n",
    "        return response.choices[0].message.content\n",
    "\n",
    "    except Exception as e:\n",
    "        return f\"Error: {e}\"\n"
   ]
  },
  {
   "cell_type": "code",
   "execution_count": 50,
   "id": "5fe52362",
   "metadata": {},
   "outputs": [],
   "source": [
    "# Load your input CSV\n",
    "df = pd.read_csv(\"companies.csv\")\n",
    "\n",
    "# Apply enrichment\n",
    "df[\"ai_enrichment\"] = df.apply(enrich_info_with_groq, axis=1)\n",
    "\n",
    "# Save results to a new CSV\n",
    "df.to_csv(\"enriched_output.csv\", index=False)\n"
   ]
  },
  {
   "cell_type": "code",
   "execution_count": 51,
   "id": "62b06069",
   "metadata": {},
   "outputs": [
    {
     "name": "stdout",
     "output_type": "stream",
     "text": [
      "Index(['company_name'], dtype='object')\n"
     ]
    }
   ],
   "source": [
    "import pandas as pd\n",
    "\n",
    "df = pd.read_csv(\"companies.csv\")\n",
    "print(df.columns)\n"
   ]
  },
  {
   "cell_type": "code",
   "execution_count": 54,
   "id": "853ab3e1",
   "metadata": {},
   "outputs": [],
   "source": [
    "from selenium import webdriver\n",
    "from selenium.webdriver.chrome.service import Service\n",
    "from webdriver_manager.chrome import ChromeDriverManager\n",
    "from selenium.webdriver.chrome.options import Options\n",
    "\n",
    "options = Options()\n",
    "options.add_argument(\"--headless\")  # optional\n",
    "driver = webdriver.Chrome(service=Service(ChromeDriverManager().install()), options=options)\n",
    "\n",
    "# Now scrape homepage text\n"
   ]
  },
  {
   "cell_type": "code",
   "execution_count": 53,
   "id": "f94b3d59",
   "metadata": {},
   "outputs": [
    {
     "name": "stdout",
     "output_type": "stream",
     "text": [
      "Defaulting to user installation because normal site-packages is not writeable\n",
      "Requirement already satisfied: selenium in c:\\users\\acer\\appdata\\local\\packages\\pythonsoftwarefoundation.python.3.12_qbz5n2kfra8p0\\localcache\\local-packages\\python312\\site-packages (4.33.0)\n",
      "Collecting webdriver-manager\n",
      "  Using cached webdriver_manager-4.0.2-py2.py3-none-any.whl.metadata (12 kB)\n",
      "Requirement already satisfied: urllib3~=2.4.0 in c:\\users\\acer\\appdata\\local\\packages\\pythonsoftwarefoundation.python.3.12_qbz5n2kfra8p0\\localcache\\local-packages\\python312\\site-packages (from urllib3[socks]~=2.4.0->selenium) (2.4.0)\n",
      "Requirement already satisfied: trio~=0.30.0 in c:\\users\\acer\\appdata\\local\\packages\\pythonsoftwarefoundation.python.3.12_qbz5n2kfra8p0\\localcache\\local-packages\\python312\\site-packages (from selenium) (0.30.0)\n",
      "Requirement already satisfied: trio-websocket~=0.12.2 in c:\\users\\acer\\appdata\\local\\packages\\pythonsoftwarefoundation.python.3.12_qbz5n2kfra8p0\\localcache\\local-packages\\python312\\site-packages (from selenium) (0.12.2)\n",
      "Requirement already satisfied: certifi>=2025.4.26 in c:\\users\\acer\\appdata\\local\\packages\\pythonsoftwarefoundation.python.3.12_qbz5n2kfra8p0\\localcache\\local-packages\\python312\\site-packages (from selenium) (2025.4.26)\n",
      "Requirement already satisfied: typing_extensions~=4.13.2 in c:\\users\\acer\\appdata\\local\\packages\\pythonsoftwarefoundation.python.3.12_qbz5n2kfra8p0\\localcache\\local-packages\\python312\\site-packages (from selenium) (4.13.2)\n",
      "Requirement already satisfied: websocket-client~=1.8.0 in c:\\users\\acer\\appdata\\local\\packages\\pythonsoftwarefoundation.python.3.12_qbz5n2kfra8p0\\localcache\\local-packages\\python312\\site-packages (from selenium) (1.8.0)\n",
      "Requirement already satisfied: requests in c:\\users\\acer\\appdata\\local\\packages\\pythonsoftwarefoundation.python.3.12_qbz5n2kfra8p0\\localcache\\local-packages\\python312\\site-packages (from webdriver-manager) (2.32.3)\n",
      "Collecting python-dotenv (from webdriver-manager)\n",
      "  Using cached python_dotenv-1.1.0-py3-none-any.whl.metadata (24 kB)\n",
      "Requirement already satisfied: packaging in c:\\users\\acer\\appdata\\local\\packages\\pythonsoftwarefoundation.python.3.12_qbz5n2kfra8p0\\localcache\\local-packages\\python312\\site-packages (from webdriver-manager) (25.0)\n",
      "Requirement already satisfied: attrs>=23.2.0 in c:\\users\\acer\\appdata\\local\\packages\\pythonsoftwarefoundation.python.3.12_qbz5n2kfra8p0\\localcache\\local-packages\\python312\\site-packages (from trio~=0.30.0->selenium) (25.3.0)\n",
      "Requirement already satisfied: sortedcontainers in c:\\users\\acer\\appdata\\local\\packages\\pythonsoftwarefoundation.python.3.12_qbz5n2kfra8p0\\localcache\\local-packages\\python312\\site-packages (from trio~=0.30.0->selenium) (2.4.0)\n",
      "Requirement already satisfied: idna in c:\\users\\acer\\appdata\\local\\packages\\pythonsoftwarefoundation.python.3.12_qbz5n2kfra8p0\\localcache\\local-packages\\python312\\site-packages (from trio~=0.30.0->selenium) (3.10)\n",
      "Requirement already satisfied: outcome in c:\\users\\acer\\appdata\\local\\packages\\pythonsoftwarefoundation.python.3.12_qbz5n2kfra8p0\\localcache\\local-packages\\python312\\site-packages (from trio~=0.30.0->selenium) (1.3.0.post0)\n",
      "Requirement already satisfied: sniffio>=1.3.0 in c:\\users\\acer\\appdata\\local\\packages\\pythonsoftwarefoundation.python.3.12_qbz5n2kfra8p0\\localcache\\local-packages\\python312\\site-packages (from trio~=0.30.0->selenium) (1.3.1)\n",
      "Requirement already satisfied: cffi>=1.14 in c:\\users\\acer\\appdata\\local\\packages\\pythonsoftwarefoundation.python.3.12_qbz5n2kfra8p0\\localcache\\local-packages\\python312\\site-packages (from trio~=0.30.0->selenium) (1.17.1)\n",
      "Requirement already satisfied: wsproto>=0.14 in c:\\users\\acer\\appdata\\local\\packages\\pythonsoftwarefoundation.python.3.12_qbz5n2kfra8p0\\localcache\\local-packages\\python312\\site-packages (from trio-websocket~=0.12.2->selenium) (1.2.0)\n",
      "Requirement already satisfied: pysocks!=1.5.7,<2.0,>=1.5.6 in c:\\users\\acer\\appdata\\local\\packages\\pythonsoftwarefoundation.python.3.12_qbz5n2kfra8p0\\localcache\\local-packages\\python312\\site-packages (from urllib3[socks]~=2.4.0->selenium) (1.7.1)\n",
      "Requirement already satisfied: charset-normalizer<4,>=2 in c:\\users\\acer\\appdata\\local\\packages\\pythonsoftwarefoundation.python.3.12_qbz5n2kfra8p0\\localcache\\local-packages\\python312\\site-packages (from requests->webdriver-manager) (3.4.2)\n",
      "Requirement already satisfied: pycparser in c:\\users\\acer\\appdata\\local\\packages\\pythonsoftwarefoundation.python.3.12_qbz5n2kfra8p0\\localcache\\local-packages\\python312\\site-packages (from cffi>=1.14->trio~=0.30.0->selenium) (2.22)\n",
      "Requirement already satisfied: h11<1,>=0.9.0 in c:\\users\\acer\\appdata\\local\\packages\\pythonsoftwarefoundation.python.3.12_qbz5n2kfra8p0\\localcache\\local-packages\\python312\\site-packages (from wsproto>=0.14->trio-websocket~=0.12.2->selenium) (0.16.0)\n",
      "Using cached webdriver_manager-4.0.2-py2.py3-none-any.whl (27 kB)\n",
      "Using cached python_dotenv-1.1.0-py3-none-any.whl (20 kB)\n",
      "Installing collected packages: python-dotenv, webdriver-manager\n",
      "Successfully installed python-dotenv-1.1.0 webdriver-manager-4.0.2\n"
     ]
    },
    {
     "name": "stderr",
     "output_type": "stream",
     "text": [
      "\n",
      "[notice] A new release of pip is available: 25.0.1 -> 25.1.1\n",
      "[notice] To update, run: C:\\Users\\acer\\AppData\\Local\\Microsoft\\WindowsApps\\PythonSoftwareFoundation.Python.3.12_qbz5n2kfra8p0\\python.exe -m pip install --upgrade pip\n"
     ]
    }
   ],
   "source": [
    "!pip install selenium webdriver-manager\n"
   ]
  },
  {
   "cell_type": "code",
   "execution_count": 55,
   "id": "a77ee40a",
   "metadata": {},
   "outputs": [],
   "source": [
    "df = pd.read_csv(\"companies.csv\")\n",
    "df[\"ai_enrichment\"] = df.apply(enrich_info_with_groq, axis=1)\n",
    "df.to_csv(\"enriched_output.csv\", index=False)\n"
   ]
  },
  {
   "cell_type": "code",
   "execution_count": 56,
   "id": "700dd7ec",
   "metadata": {},
   "outputs": [],
   "source": [
    "import pandas as pd\n",
    "\n",
    "# ✅ Known good data\n",
    "df = pd.DataFrame({\n",
    "    \"company_name\": [\"Zoho\", \"OpenAI\"],\n",
    "    \"homepage_text\": [\n",
    "        \"Zoho offers a suite of business applications for CRM, marketing, finance, and HR.\",\n",
    "        \"OpenAI is an AI research and deployment company dedicated to ensuring AGI benefits all of humanity.\"\n",
    "    ]\n",
    "})\n"
   ]
  },
  {
   "cell_type": "code",
   "execution_count": 57,
   "id": "cc2546dc",
   "metadata": {},
   "outputs": [],
   "source": [
    "from openai import OpenAI\n",
    "\n",
    "client = OpenAI(\n",
    "    base_url=\"https://api.groq.com/openai/v1\",\n",
    "    api_key=\"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\"\n",
    ")\n",
    "\n",
    "def enrich_info_with_groq(row):\n",
    "    try:\n",
    "        homepage_text = row[\"homepage_text\"]\n",
    "        response = client.chat.completions.create(\n",
    "            model=\"llama3-8b-8192\",\n",
    "            messages=[\n",
    "                {\"role\": \"system\", \"content\": \"You are an AI assistant that analyzes companies.\"},\n",
    "                {\"role\": \"user\", \"content\": f\"Analyze this company homepage text and suggest AI automation opportunities:\\n\\n{homepage_text}\"}\n",
    "            ]\n",
    "        )\n",
    "        return response.choices[0].message.content\n",
    "    except Exception as e:\n",
    "        return f\"Error: {e}\"\n"
   ]
  },
  {
   "cell_type": "code",
   "execution_count": 58,
   "id": "b4225f2b",
   "metadata": {},
   "outputs": [],
   "source": [
    "df[\"ai_enrichment\"] = df.apply(enrich_info_with_groq, axis=1)\n",
    "df.to_csv(\"enriched_output.csv\", index=False)\n"
   ]
  },
  {
   "cell_type": "code",
   "execution_count": 59,
   "id": "8466cd96",
   "metadata": {},
   "outputs": [
    {
     "name": "stdout",
     "output_type": "stream",
     "text": [
      "Index(['company_name', 'homepage_text', 'ai_enrichment'], dtype='object')\n"
     ]
    }
   ],
   "source": [
    "print(df.columns)\n"
   ]
  },
  {
   "cell_type": "code",
   "execution_count": 60,
   "id": "5ce8878f",
   "metadata": {},
   "outputs": [],
   "source": [
    "df[\"ai_enrichment\"] = df[\"homepage_text\"].apply(enrich_info_with_groq)\n"
   ]
  },
  {
   "cell_type": "code",
   "execution_count": 61,
   "id": "59ddb38f",
   "metadata": {},
   "outputs": [],
   "source": [
    "from selenium.common.exceptions import WebDriverException\n",
    "import time\n",
    "\n",
    "def get_company_info_with_llm(text, model=\"llama3-8b-8192\"):\n",
    "    response = client.chat.completions.create(\n",
    "        model=model,\n",
    "        messages=[\n",
    "            {\"role\": \"system\", \"content\": \"You are an AI assistant that extracts company information.\"},\n",
    "            {\"role\": \"user\", \"content\": f\"\"\"\n",
    "Given this company homepage text, extract the following:\n",
    "- Industry\n",
    "- Approximate company size (employee count or range)\n",
    "- Headquarters location (city, country)\n",
    "\n",
    "Text:\n",
    "{text}\n",
    "            \"\"\"}\n",
    "        ]\n",
    "    )\n",
    "    return response.choices[0].message.content.strip()\n",
    "\n",
    "def scrape_company_info(url):\n",
    "    info_text = \"\"\n",
    "    paths = [\"\", \"/about\", \"/about-us\", \"/company\", \"/careers\"]\n",
    "    for path in paths:\n",
    "        try:\n",
    "            driver.get(url + path)\n",
    "            time.sleep(3)  # wait for JS to load\n",
    "            info_text += driver.find_element(By.TAG_NAME, \"body\").text + \"\\n\"\n",
    "        except WebDriverException:\n",
    "            continue\n",
    "    return info_text\n"
   ]
  },
  {
   "cell_type": "code",
   "execution_count": 63,
   "id": "e5f767c2",
   "metadata": {},
   "outputs": [],
   "source": [
    "company_info = []\n",
    "\n",
    "for index, row in df.iterrows():\n",
    "    homepage = row[\"homepage_text\"]\n",
    "    try:\n",
    "        text = scrape_company_info(homepage)\n",
    "        summary = get_company_info_with_llm(text)\n",
    "        company_info.append(summary)\n",
    "    except Exception as e:\n",
    "        company_info.append(f\"Error: {str(e)}\")\n",
    "\n",
    "df[\"company_summary\"] = company_info\n"
   ]
  },
  {
   "cell_type": "code",
   "execution_count": 66,
   "id": "7b2a9753",
   "metadata": {},
   "outputs": [],
   "source": [
    "# Add manually collected data to the DataFrame\n",
    "df[\"industry\"] = [\"AI/ML\", \"AI/Research\", \"SaaS\", \"SaaS/CRM\"]\n",
    "df[\"company_size\"] = [\"500–1000\", \"1000–2000\", \"10,000+\", \"5000–10,000\"]\n",
    "df[\"hq_location\"] = [\"San Francisco, CA\", \"London, UK\", \"Chennai, India\", \"San Mateo, CA\"]\n",
    "\n",
    "# Save to enriched output\n",
    "df.to_csv(\"fully_enriched_output.csv\", index=False)\n"
   ]
  },
  {
   "cell_type": "code",
   "execution_count": 65,
   "id": "e01f19bb",
   "metadata": {},
   "outputs": [
    {
     "name": "stdout",
     "output_type": "stream",
     "text": [
      "  company_name     industry company_size        hq_location\n",
      "0       OpenAI        AI/ML     500–1000  San Francisco, CA\n",
      "1     DeepMind  AI/Research    1000–2000         London, UK\n",
      "2         Zoho         SaaS      10,000+     Chennai, India\n",
      "3   Freshworks     SaaS/CRM  5000–10,000      San Mateo, CA\n"
     ]
    }
   ],
   "source": [
    "import pandas as pd\n",
    "\n",
    "df = pd.DataFrame({\n",
    "    \"company_name\": [\"OpenAI\", \"DeepMind\", \"Zoho\", \"Freshworks\"]\n",
    "})\n",
    "\n",
    "df[\"industry\"] = [\"AI/ML\", \"AI/Research\", \"SaaS\", \"SaaS/CRM\"]\n",
    "df[\"company_size\"] = [\"500–1000\", \"1000–2000\", \"10,000+\", \"5000–10,000\"]\n",
    "df[\"hq_location\"] = [\"San Francisco, CA\", \"London, UK\", \"Chennai, India\", \"San Mateo, CA\"]\n",
    "\n",
    "print(df)\n"
   ]
  },
  {
   "cell_type": "code",
   "execution_count": 69,
   "id": "a1f110c8",
   "metadata": {},
   "outputs": [],
   "source": [
    "ai_enriched_df = pd.DataFrame({\n",
    "    \"company_name\": [...],\n",
    "    \"some_info\": [...],\n",
    "    # other columns\n",
    "})\n"
   ]
  },
  {
   "cell_type": "code",
   "execution_count": 72,
   "id": "ac925c63",
   "metadata": {},
   "outputs": [],
   "source": [
    "# Assume df is your original dataframe with company names\n",
    "# Step 1: Enrich data for company names (this is an example)\n",
    "ai_enriched_df = enrich_companies(df[\"company_name\"])\n",
    "\n",
    "# Step 2: Merge enriched data with original\n",
    "final_df = df.merge(ai_enriched_df, on=\"company_name\", how=\"left\")\n"
   ]
  },
  {
   "cell_type": "code",
   "execution_count": 73,
   "id": "d8a4bf89",
   "metadata": {},
   "outputs": [
    {
     "name": "stdout",
     "output_type": "stream",
     "text": [
      "  company_name     industry company_size        hq_location\n",
      "0       OpenAI        AI/ML     500–1000  San Francisco, CA\n",
      "1     DeepMind  AI/Research    1000–2000         London, UK\n",
      "2         Zoho         SaaS      10,000+     Chennai, India\n",
      "3   Freshworks     SaaS/CRM  5000–10,000      San Mateo, CA\n"
     ]
    }
   ],
   "source": [
    "import pandas as pd\n",
    "\n",
    "# Load original company list\n",
    "df = pd.read_csv(\"companies.csv\")  # or \"leads.csv\" depending on what you started with\n",
    "\n",
    "# Load your already enriched CSV\n",
    "ai_enriched_df = pd.read_csv(\"fully_enriched_output.csv\")\n",
    "\n",
    "# Merge them on company name\n",
    "final_df = df.merge(ai_enriched_df, on=\"company_name\", how=\"left\")\n",
    "\n",
    "# Preview or save the final output\n",
    "print(final_df.head())\n",
    "final_df.to_csv(\"final_output.csv\", index=False)\n"
   ]
  },
  {
   "cell_type": "code",
   "execution_count": 75,
   "id": "541cf0db",
   "metadata": {},
   "outputs": [],
   "source": [
    "# Merge with earlier enriched data\n",
    "final_df = df.merge(ai_enriched_df, on=\"company_name\", how=\"left\")\n"
   ]
  },
  {
   "cell_type": "code",
   "execution_count": 77,
   "id": "54f0d20b",
   "metadata": {},
   "outputs": [],
   "source": [
    "final_df.to_csv(\"enriched_leads.csv\", index=False)\n"
   ]
  },
  {
   "cell_type": "code",
   "execution_count": 78,
   "id": "883014dd",
   "metadata": {},
   "outputs": [],
   "source": [
    "def extract_meta_keywords(website_url):\n",
    "    try:\n",
    "        response = requests.get(website_url)\n",
    "        soup = BeautifulSoup(response.text, 'html.parser')\n",
    "        keywords = soup.find(\"meta\", {\"name\": \"keywords\"})\n",
    "        return keywords['content'] if keywords else \"N/A\"\n",
    "    except:\n",
    "        return \"N/A\"\n"
   ]
  },
  {
   "cell_type": "code",
   "execution_count": 79,
   "id": "28dccad5",
   "metadata": {},
   "outputs": [
    {
     "data": {
      "text/html": [
       "<div>\n",
       "<style scoped>\n",
       "    .dataframe tbody tr th:only-of-type {\n",
       "        vertical-align: middle;\n",
       "    }\n",
       "\n",
       "    .dataframe tbody tr th {\n",
       "        vertical-align: top;\n",
       "    }\n",
       "\n",
       "    .dataframe thead th {\n",
       "        text-align: right;\n",
       "    }\n",
       "</style>\n",
       "<table border=\"1\" class=\"dataframe\">\n",
       "  <thead>\n",
       "    <tr style=\"text-align: right;\">\n",
       "      <th></th>\n",
       "      <th>company_name</th>\n",
       "      <th>industry</th>\n",
       "      <th>employee_count</th>\n",
       "    </tr>\n",
       "  </thead>\n",
       "  <tbody>\n",
       "    <tr>\n",
       "      <th>0</th>\n",
       "      <td>OpenAI</td>\n",
       "      <td>Tech</td>\n",
       "      <td>100</td>\n",
       "    </tr>\n",
       "    <tr>\n",
       "      <th>1</th>\n",
       "      <td>Google</td>\n",
       "      <td>Tech</td>\n",
       "      <td>100</td>\n",
       "    </tr>\n",
       "    <tr>\n",
       "      <th>2</th>\n",
       "      <td>Microsoft</td>\n",
       "      <td>Tech</td>\n",
       "      <td>100</td>\n",
       "    </tr>\n",
       "  </tbody>\n",
       "</table>\n",
       "</div>"
      ],
      "text/plain": [
       "  company_name industry  employee_count\n",
       "0       OpenAI     Tech             100\n",
       "1       Google     Tech             100\n",
       "2    Microsoft     Tech             100"
      ]
     },
     "execution_count": 79,
     "metadata": {},
     "output_type": "execute_result"
    }
   ],
   "source": [
    "import pandas as pd\n",
    "\n",
    "leads_df = pd.read_csv(\"enriched_leads.csv\")\n",
    "leads_df.head()\n"
   ]
  },
  {
   "cell_type": "code",
   "execution_count": 80,
   "id": "e3ef84d2",
   "metadata": {},
   "outputs": [],
   "source": [
    "import requests\n",
    "from bs4 import BeautifulSoup\n",
    "\n",
    "def search_company_website(company_name):\n",
    "    query = f\"{company_name} official site\"\n",
    "    url = f\"https://duckduckgo.com/html/?q={query}\"\n",
    "    headers = {\"User-Agent\": \"Mozilla/5.0\"}\n",
    "\n",
    "    try:\n",
    "        res = requests.get(url, headers=headers)\n",
    "        soup = BeautifulSoup(res.text, \"html.parser\")\n",
    "        result = soup.find(\"a\", class_=\"result__url\", href=True)\n",
    "        return result['href'] if result else \"N/A\"\n",
    "    except:\n",
    "        return \"N/A\"\n"
   ]
  },
  {
   "cell_type": "code",
   "execution_count": 81,
   "id": "d017497c",
   "metadata": {},
   "outputs": [],
   "source": [
    "def scrape_company_info(website_url):\n",
    "    result = {\n",
    "        \"industry\": \"N/A\",\n",
    "        \"hq_location\": \"N/A\",\n",
    "        \"company_size\": \"N/A\"\n",
    "    }\n",
    "    try:\n",
    "        response = requests.get(website_url, timeout=10)\n",
    "        soup = BeautifulSoup(response.text, 'html.parser')\n",
    "\n",
    "        # Try meta keywords\n",
    "        meta = soup.find(\"meta\", attrs={\"name\": \"keywords\"})\n",
    "        if meta and meta.get(\"content\"):\n",
    "            result[\"industry\"] = meta[\"content\"].split(\",\")[0]\n",
    "\n",
    "        # Simple heuristic for location\n",
    "        text = soup.get_text(separator=\" \", strip=True)\n",
    "        for line in text.split(\"\\n\"):\n",
    "            if \"Headquarters\" in line or \"HQ\" in line:\n",
    "                result[\"hq_location\"] = line.strip()\n",
    "                break\n",
    "    except:\n",
    "        pass\n",
    "    return result\n"
   ]
  },
  {
   "cell_type": "code",
   "execution_count": 82,
   "id": "71ed53ae",
   "metadata": {},
   "outputs": [
    {
     "name": "stdout",
     "output_type": "stream",
     "text": [
      "Enriching: OpenAI\n",
      "Enriching: Google\n",
      "Enriching: Microsoft\n"
     ]
    }
   ],
   "source": [
    "enriched_data = []\n",
    "\n",
    "for index, row in leads_df.iterrows():\n",
    "    company = row[\"company_name\"]\n",
    "    print(f\"Enriching: {company}\")\n",
    "\n",
    "    website = search_company_website(company)\n",
    "    info = scrape_company_info(website)\n",
    "\n",
    "    enriched_data.append({\n",
    "        \"company_name\": company,\n",
    "        \"website\": website,\n",
    "        \"industry\": info[\"industry\"],\n",
    "        \"hq_location\": info[\"hq_location\"],\n",
    "        \"company_size\": info[\"company_size\"]\n",
    "    })\n"
   ]
  },
  {
   "cell_type": "code",
   "execution_count": 83,
   "id": "ca14f555",
   "metadata": {},
   "outputs": [
    {
     "name": "stderr",
     "output_type": "stream",
     "text": [
      "100%|██████████| 3/3 [00:03<00:00,  1.03s/it]\n"
     ]
    }
   ],
   "source": [
    "from tqdm import tqdm\n",
    "\n",
    "for idx, row in tqdm(df.iterrows(), total=len(df)):\n",
    "    company = row[\"company_name\"]\n",
    "    website = search_company_website(company)\n",
    "    scraped_info = scrape_company_info(website)\n",
    "\n",
    "    df.at[idx, \"website\"] = website\n",
    "    df.at[idx, \"industry\"] = scraped_info[\"industry\"]\n",
    "    df.at[idx, \"hq_location\"] = scraped_info[\"hq_location\"]\n",
    "    df.at[idx, \"company_size\"] = scraped_info[\"company_size\"]\n"
   ]
  },
  {
   "cell_type": "code",
   "execution_count": 84,
   "id": "e1b66dd0",
   "metadata": {},
   "outputs": [
    {
     "data": {
      "text/plain": [
       "'enriched_leads.csv'"
      ]
     },
     "execution_count": 84,
     "metadata": {},
     "output_type": "execute_result"
    }
   ],
   "source": [
    "import shutil\n",
    "\n",
    "# Replace enriched_leads.csv with final_output.csv\n",
    "shutil.copy(\"final_output.csv\", \"enriched_leads.csv\")\n"
   ]
  },
  {
   "cell_type": "code",
   "execution_count": 85,
   "id": "a0fd096a",
   "metadata": {},
   "outputs": [
    {
     "data": {
      "text/html": [
       "<div>\n",
       "<style scoped>\n",
       "    .dataframe tbody tr th:only-of-type {\n",
       "        vertical-align: middle;\n",
       "    }\n",
       "\n",
       "    .dataframe tbody tr th {\n",
       "        vertical-align: top;\n",
       "    }\n",
       "\n",
       "    .dataframe thead th {\n",
       "        text-align: right;\n",
       "    }\n",
       "</style>\n",
       "<table border=\"1\" class=\"dataframe\">\n",
       "  <thead>\n",
       "    <tr style=\"text-align: right;\">\n",
       "      <th></th>\n",
       "      <th>company_name</th>\n",
       "      <th>industry</th>\n",
       "      <th>company_size</th>\n",
       "      <th>hq_location</th>\n",
       "    </tr>\n",
       "  </thead>\n",
       "  <tbody>\n",
       "    <tr>\n",
       "      <th>0</th>\n",
       "      <td>OpenAI</td>\n",
       "      <td>AI/ML</td>\n",
       "      <td>500–1000</td>\n",
       "      <td>San Francisco, CA</td>\n",
       "    </tr>\n",
       "    <tr>\n",
       "      <th>1</th>\n",
       "      <td>DeepMind</td>\n",
       "      <td>AI/Research</td>\n",
       "      <td>1000–2000</td>\n",
       "      <td>London, UK</td>\n",
       "    </tr>\n",
       "    <tr>\n",
       "      <th>2</th>\n",
       "      <td>Zoho</td>\n",
       "      <td>SaaS</td>\n",
       "      <td>10,000+</td>\n",
       "      <td>Chennai, India</td>\n",
       "    </tr>\n",
       "    <tr>\n",
       "      <th>3</th>\n",
       "      <td>Freshworks</td>\n",
       "      <td>SaaS/CRM</td>\n",
       "      <td>5000–10,000</td>\n",
       "      <td>San Mateo, CA</td>\n",
       "    </tr>\n",
       "  </tbody>\n",
       "</table>\n",
       "</div>"
      ],
      "text/plain": [
       "  company_name     industry company_size        hq_location\n",
       "0       OpenAI        AI/ML     500–1000  San Francisco, CA\n",
       "1     DeepMind  AI/Research    1000–2000         London, UK\n",
       "2         Zoho         SaaS      10,000+     Chennai, India\n",
       "3   Freshworks     SaaS/CRM  5000–10,000      San Mateo, CA"
      ]
     },
     "execution_count": 85,
     "metadata": {},
     "output_type": "execute_result"
    }
   ],
   "source": [
    "pd.read_csv(\"enriched_leads.csv\").head()\n"
   ]
  },
  {
   "cell_type": "code",
   "execution_count": 86,
   "id": "e0c14153",
   "metadata": {},
   "outputs": [],
   "source": [
    "def get_llm_summary_and_pitch(company_name, website_text):\n",
    "    prompt = f\"\"\"\n",
    "You are an expert at analyzing companies. Based on the following homepage content for \"{company_name}\", do two things:\n",
    "1. Summarize what the company does.\n",
    "2. Suggest a creative AI automation idea that QF Innovate could pitch to this company.\n",
    "\n",
    "Homepage content:\n",
    "\\\"\\\"\\\"\n",
    "{website_text}\n",
    "\\\"\\\"\\\"\n",
    "\"\"\"\n",
    "    try:\n",
    "        response = openai.ChatCompletion.create(\n",
    "            model=\"gpt-4\",\n",
    "            messages=[{\"role\": \"user\", \"content\": prompt}],\n",
    "            temperature=0.7,\n",
    "        )\n",
    "        content = response.choices[0].message.content.strip()\n",
    "        # Split response (basic heuristic)\n",
    "        parts = content.split(\"\\n\")\n",
    "        summary = parts[0].strip()\n",
    "        pitch = \"\\n\".join(parts[1:]).strip()\n",
    "        return summary, pitch\n",
    "    except Exception as e:\n",
    "        print(f\"LLM failed for {company_name}: {e}\")\n",
    "        return \"N/A\", \"N/A\"\n"
   ]
  },
  {
   "cell_type": "code",
   "execution_count": 87,
   "id": "f9949d21",
   "metadata": {},
   "outputs": [],
   "source": [
    "df = pd.read_csv(\"final_output.csv\")  # or final_enriched_output.csv\n"
   ]
  },
  {
   "cell_type": "code",
   "execution_count": 95,
   "id": "50226b5d",
   "metadata": {},
   "outputs": [
    {
     "name": "stderr",
     "output_type": "stream",
     "text": [
      " 25%|██▌       | 1/4 [00:03<00:10,  3.50s/it]"
     ]
    },
    {
     "name": "stdout",
     "output_type": "stream",
     "text": [
      "LLM failed for OpenAI: Error code: 401 - {'error': {'message': 'Incorrect API key provided: sk-.... You can find your API key at https://platform.openai.com/account/api-keys.', 'type': 'invalid_request_error', 'param': None, 'code': 'invalid_api_key'}}\n"
     ]
    },
    {
     "name": "stderr",
     "output_type": "stream",
     "text": [
      " 50%|█████     | 2/4 [00:05<00:05,  2.71s/it]"
     ]
    },
    {
     "name": "stdout",
     "output_type": "stream",
     "text": [
      "LLM failed for DeepMind: Error code: 401 - {'error': {'message': 'Incorrect API key provided: sk-.... You can find your API key at https://platform.openai.com/account/api-keys.', 'type': 'invalid_request_error', 'param': None, 'code': 'invalid_api_key'}}\n"
     ]
    },
    {
     "name": "stderr",
     "output_type": "stream",
     "text": [
      " 75%|███████▌  | 3/4 [00:07<00:02,  2.45s/it]"
     ]
    },
    {
     "name": "stdout",
     "output_type": "stream",
     "text": [
      "LLM failed for Zoho: Error code: 401 - {'error': {'message': 'Incorrect API key provided: sk-.... You can find your API key at https://platform.openai.com/account/api-keys.', 'type': 'invalid_request_error', 'param': None, 'code': 'invalid_api_key'}}\n"
     ]
    },
    {
     "name": "stderr",
     "output_type": "stream",
     "text": [
      "100%|██████████| 4/4 [00:09<00:00,  2.39s/it]"
     ]
    },
    {
     "name": "stdout",
     "output_type": "stream",
     "text": [
      "LLM failed for Freshworks: Error code: 401 - {'error': {'message': 'Incorrect API key provided: sk-.... You can find your API key at https://platform.openai.com/account/api-keys.', 'type': 'invalid_request_error', 'param': None, 'code': 'invalid_api_key'}}\n"
     ]
    },
    {
     "name": "stderr",
     "output_type": "stream",
     "text": [
      "\n"
     ]
    }
   ],
   "source": [
    "from bs4 import BeautifulSoup\n",
    "import requests\n",
    "from tqdm import tqdm\n",
    "\n",
    "summaries = []\n",
    "pitches = []\n",
    "\n",
    "for idx, row in tqdm(df.iterrows(), total=len(df)):\n",
    "    company = row[\"company_name\"]\n",
    "    website = row[\"website\"] if \"website\" in df.columns else search_company_website(company)\n",
    "\n",
    "    try:\n",
    "        homepage = requests.get(website, timeout=10).text\n",
    "        clean_text = BeautifulSoup(homepage, \"html.parser\").get_text(separator=\" \", strip=True)[:4000]  # Trim to avoid token overflow\n",
    "    except:\n",
    "        clean_text = \"\"\n",
    "\n",
    "    summary, pitch = get_llm_summary_and_pitch(company, clean_text)\n",
    "    summaries.append(summary)\n",
    "    pitches.append(pitch)\n",
    "\n",
    "df[\"summary_from_llm\"] = summaries\n",
    "df[\"automation_pitch_from_llm\"] = pitches\n"
   ]
  },
  {
   "cell_type": "code",
   "execution_count": 89,
   "id": "c5b4d622",
   "metadata": {},
   "outputs": [
    {
     "name": "stdout",
     "output_type": "stream",
     "text": [
      "Defaulting to user installation because normal site-packages is not writeable\n",
      "Requirement already satisfied: openai in c:\\users\\acer\\appdata\\local\\packages\\pythonsoftwarefoundation.python.3.12_qbz5n2kfra8p0\\localcache\\local-packages\\python312\\site-packages (1.82.1)\n",
      "Requirement already satisfied: anyio<5,>=3.5.0 in c:\\users\\acer\\appdata\\local\\packages\\pythonsoftwarefoundation.python.3.12_qbz5n2kfra8p0\\localcache\\local-packages\\python312\\site-packages (from openai) (4.9.0)\n",
      "Requirement already satisfied: distro<2,>=1.7.0 in c:\\users\\acer\\appdata\\local\\packages\\pythonsoftwarefoundation.python.3.12_qbz5n2kfra8p0\\localcache\\local-packages\\python312\\site-packages (from openai) (1.9.0)\n",
      "Requirement already satisfied: httpx<1,>=0.23.0 in c:\\users\\acer\\appdata\\local\\packages\\pythonsoftwarefoundation.python.3.12_qbz5n2kfra8p0\\localcache\\local-packages\\python312\\site-packages (from openai) (0.28.1)\n",
      "Requirement already satisfied: jiter<1,>=0.4.0 in c:\\users\\acer\\appdata\\local\\packages\\pythonsoftwarefoundation.python.3.12_qbz5n2kfra8p0\\localcache\\local-packages\\python312\\site-packages (from openai) (0.10.0)\n",
      "Requirement already satisfied: pydantic<3,>=1.9.0 in c:\\users\\acer\\appdata\\local\\packages\\pythonsoftwarefoundation.python.3.12_qbz5n2kfra8p0\\localcache\\local-packages\\python312\\site-packages (from openai) (2.11.5)\n",
      "Requirement already satisfied: sniffio in c:\\users\\acer\\appdata\\local\\packages\\pythonsoftwarefoundation.python.3.12_qbz5n2kfra8p0\\localcache\\local-packages\\python312\\site-packages (from openai) (1.3.1)\n",
      "Requirement already satisfied: tqdm>4 in c:\\users\\acer\\appdata\\local\\packages\\pythonsoftwarefoundation.python.3.12_qbz5n2kfra8p0\\localcache\\local-packages\\python312\\site-packages (from openai) (4.67.1)\n",
      "Requirement already satisfied: typing-extensions<5,>=4.11 in c:\\users\\acer\\appdata\\local\\packages\\pythonsoftwarefoundation.python.3.12_qbz5n2kfra8p0\\localcache\\local-packages\\python312\\site-packages (from openai) (4.13.2)\n",
      "Requirement already satisfied: idna>=2.8 in c:\\users\\acer\\appdata\\local\\packages\\pythonsoftwarefoundation.python.3.12_qbz5n2kfra8p0\\localcache\\local-packages\\python312\\site-packages (from anyio<5,>=3.5.0->openai) (3.10)\n",
      "Requirement already satisfied: certifi in c:\\users\\acer\\appdata\\local\\packages\\pythonsoftwarefoundation.python.3.12_qbz5n2kfra8p0\\localcache\\local-packages\\python312\\site-packages (from httpx<1,>=0.23.0->openai) (2025.4.26)\n",
      "Requirement already satisfied: httpcore==1.* in c:\\users\\acer\\appdata\\local\\packages\\pythonsoftwarefoundation.python.3.12_qbz5n2kfra8p0\\localcache\\local-packages\\python312\\site-packages (from httpx<1,>=0.23.0->openai) (1.0.9)\n",
      "Requirement already satisfied: h11>=0.16 in c:\\users\\acer\\appdata\\local\\packages\\pythonsoftwarefoundation.python.3.12_qbz5n2kfra8p0\\localcache\\local-packages\\python312\\site-packages (from httpcore==1.*->httpx<1,>=0.23.0->openai) (0.16.0)\n",
      "Requirement already satisfied: annotated-types>=0.6.0 in c:\\users\\acer\\appdata\\local\\packages\\pythonsoftwarefoundation.python.3.12_qbz5n2kfra8p0\\localcache\\local-packages\\python312\\site-packages (from pydantic<3,>=1.9.0->openai) (0.7.0)\n",
      "Requirement already satisfied: pydantic-core==2.33.2 in c:\\users\\acer\\appdata\\local\\packages\\pythonsoftwarefoundation.python.3.12_qbz5n2kfra8p0\\localcache\\local-packages\\python312\\site-packages (from pydantic<3,>=1.9.0->openai) (2.33.2)\n",
      "Requirement already satisfied: typing-inspection>=0.4.0 in c:\\users\\acer\\appdata\\local\\packages\\pythonsoftwarefoundation.python.3.12_qbz5n2kfra8p0\\localcache\\local-packages\\python312\\site-packages (from pydantic<3,>=1.9.0->openai) (0.4.1)\n",
      "Requirement already satisfied: colorama in c:\\users\\acer\\appdata\\local\\packages\\pythonsoftwarefoundation.python.3.12_qbz5n2kfra8p0\\localcache\\local-packages\\python312\\site-packages (from tqdm>4->openai) (0.4.6)\n"
     ]
    },
    {
     "name": "stderr",
     "output_type": "stream",
     "text": [
      "\n",
      "[notice] A new release of pip is available: 25.0.1 -> 25.1.1\n",
      "[notice] To update, run: C:\\Users\\acer\\AppData\\Local\\Microsoft\\WindowsApps\\PythonSoftwareFoundation.Python.3.12_qbz5n2kfra8p0\\python.exe -m pip install --upgrade pip\n"
     ]
    }
   ],
   "source": [
    "!pip install openai"
   ]
  },
  {
   "cell_type": "code",
   "execution_count": 91,
   "id": "9cb823f1",
   "metadata": {},
   "outputs": [],
   "source": [
    "import openai\n",
    "\n",
    "client = openai.OpenAI(api_key=\"sk-...\")  # ← Your real key here\n",
    "\n",
    "def get_llm_summary_and_pitch(company_name, website_text):\n",
    "    prompt = f\"\"\"\n",
    "You are an expert at analyzing companies. Based on the following homepage content for \"{company_name}\", do two things:\n",
    "1. Summarize what the company does.\n",
    "2. Suggest a creative AI automation idea that QF Innovate could pitch to this company.\n",
    "\n",
    "Homepage content:\n",
    "\\\"\\\"\\\"\n",
    "{website_text}\n",
    "\\\"\\\"\\\"\n",
    "\"\"\"\n",
    "    try:\n",
    "        response = client.chat.completions.create(\n",
    "            model=\"gpt-4\",  # or \"gpt-3.5-turbo\"\n",
    "            messages=[{\"role\": \"user\", \"content\": prompt}],\n",
    "            temperature=0.7,\n",
    "        )\n",
    "        content = response.choices[0].message.content.strip()\n",
    "        parts = content.split(\"\\n\")\n",
    "        summary = parts[0].strip()\n",
    "        pitch = \"\\n\".join(parts[1:]).strip()\n",
    "        return summary, pitch\n",
    "    except Exception as e:\n",
    "        print(f\"LLM failed for {company_name}: {e}\")\n",
    "        return \"N/A\", \"N/A\"\n"
   ]
  },
  {
   "cell_type": "code",
   "execution_count": 93,
   "id": "eeb16f9e",
   "metadata": {},
   "outputs": [],
   "source": [
    "import openai\n",
    "\n",
    "client = openai.OpenAI(api_key=\"sk-...\")  # replace with your real key\n"
   ]
  },
  {
   "cell_type": "code",
   "execution_count": 94,
   "id": "d49b07cc",
   "metadata": {},
   "outputs": [],
   "source": [
    "def get_llm_summary_and_pitch(company_name, website_text):\n",
    "    prompt = f\"\"\"\n",
    "You are an expert at analyzing companies. Based on the following homepage content for \"{company_name}\", do two things:\n",
    "1. Summarize what the company does.\n",
    "2. Suggest a creative AI automation idea that QF Innovate could pitch to this company.\n",
    "\n",
    "Homepage content:\n",
    "\\\"\\\"\\\"\n",
    "{website_text}\n",
    "\\\"\\\"\\\"\n",
    "\"\"\"\n",
    "    try:\n",
    "        response = client.chat.completions.create(\n",
    "            model=\"gpt-4\",  # or \"gpt-3.5-turbo\"\n",
    "            messages=[\n",
    "                {\"role\": \"user\", \"content\": prompt}\n",
    "            ],\n",
    "            temperature=0.7,\n",
    "        )\n",
    "        content = response.choices[0].message.content.strip()\n",
    "        parts = content.split(\"\\n\")\n",
    "        summary = parts[0].strip()\n",
    "        pitch = \"\\n\".join(parts[1:]).strip()\n",
    "        return summary, pitch\n",
    "    except Exception as e:\n",
    "        print(f\"LLM failed for {company_name}: {e}\")\n",
    "        return \"N/A\", \"N/A\"\n"
   ]
  },
  {
   "cell_type": "code",
   "execution_count": 98,
   "id": "54f43125",
   "metadata": {},
   "outputs": [],
   "source": [
    "df.drop_duplicates(subset=\"company_name\", inplace=True)\n",
    "df.dropna(subset=[\"website\", \"summary_from_llm\"], inplace=True)\n"
   ]
  },
  {
   "cell_type": "code",
   "execution_count": 97,
   "id": "89c8d8d1",
   "metadata": {},
   "outputs": [],
   "source": [
    "df['website'] = df['company_name'].apply(search_company_website)\n"
   ]
  },
  {
   "cell_type": "code",
   "execution_count": 99,
   "id": "eeed16e7",
   "metadata": {},
   "outputs": [],
   "source": [
    "def enrich_company(company_name):\n",
    "    website = search_company_website(company_name)\n",
    "    homepage_text = scrape_company_info(website)\n",
    "    info = get_structured_info_from_llm(homepage_text)\n",
    "    summary, pitch = get_llm_summary_and_pitch(company_name, homepage_text)\n",
    "    \n",
    "    return {\n",
    "        \"company_name\": company_name,\n",
    "        \"website\": website,\n",
    "        **info,  # industry, hq_location, company_size\n",
    "        \"summary\": summary,\n",
    "        \"automation_pitch\": pitch,\n",
    "    }\n"
   ]
  },
  {
   "cell_type": "code",
   "execution_count": 100,
   "id": "883574f4",
   "metadata": {},
   "outputs": [
    {
     "name": "stdout",
     "output_type": "stream",
     "text": [
      "Final enriched CSV saved as final_enriched_companies.csv\n",
      "Deleted enriched_leads.csv\n",
      "Deleted enriched_output.csv\n",
      "Deleted fully_enriched_output.csv\n"
     ]
    }
   ],
   "source": [
    "import pandas as pd\n",
    "import os\n",
    "\n",
    "# Load CSV files\n",
    "df_basic = pd.read_csv(\"enriched_output.csv\")  # company_name, homepage_text, ai_enrichment\n",
    "df_info = pd.read_csv(\"fully_enriched_output.csv\")  # company_name, industry, company_size, hq_location\n",
    "\n",
    "# Merge on company_name (left join to keep all from df_basic)\n",
    "df_merged = pd.merge(df_basic, df_info, on=\"company_name\", how=\"left\")\n",
    "\n",
    "# Drop duplicate rows if any\n",
    "df_merged.drop_duplicates(subset=\"company_name\", inplace=True)\n",
    "\n",
    "# Save final cleaned CSV\n",
    "final_csv = \"final_enriched_companies.csv\"\n",
    "df_merged.to_csv(final_csv, index=False)\n",
    "\n",
    "print(f\"Final enriched CSV saved as {final_csv}\")\n",
    "\n",
    "# Optionally, delete old CSVs\n",
    "files_to_delete = [\"enriched_leads.csv\", \"enriched_output.csv\", \"fully_enriched_output.csv\"]\n",
    "for f in files_to_delete:\n",
    "    if os.path.exists(f):\n",
    "        os.remove(f)\n",
    "        print(f\"Deleted {f}\")\n"
   ]
  },
  {
   "cell_type": "code",
   "execution_count": 103,
   "id": "8b92a0c7",
   "metadata": {},
   "outputs": [
    {
     "name": "stdout",
     "output_type": "stream",
     "text": [
      "Combined CSV saved as fully_enriched_output.csv\n",
      "  company_name        homepage_text       ai_enrichment     industry  \\\n",
      "0     DeepMind    DeepMind homepage    AI data DeepMind  AI Research   \n",
      "1   Freshworks  Freshworks homepage  AI data Freshworks     Software   \n",
      "2       OpenAI      OpenAI homepage      AI data OpenAI  AI Research   \n",
      "3         Zoho        Zoho homepage        AI data Zoho     Software   \n",
      "\n",
      "  company_size        hq_location         website  \n",
      "0        1000+         London, UK    deepmind.com  \n",
      "1        1500+      San Mateo, CA  freshworks.com  \n",
      "2         500+  San Francisco, CA      openai.com  \n",
      "3        2000+     Chennai, India        zoho.com  \n"
     ]
    }
   ],
   "source": [
    "import pandas as pd\n",
    "\n",
    "# Step 1: Load your existing CSVs or recreate example data\n",
    "# Replace these with your actual files if they exist, else create dummy dataframes\n",
    "try:\n",
    "    df_basic = pd.read_csv(\"enriched_output.csv\")  # company_name, homepage_text, ai_enrichment\n",
    "except FileNotFoundError:\n",
    "    df_basic = pd.DataFrame({\n",
    "        \"company_name\": [\"OpenAI\", \"DeepMind\", \"Zoho\", \"Freshworks\"],\n",
    "        \"homepage_text\": [\"OpenAI homepage\", \"DeepMind homepage\", \"Zoho homepage\", \"Freshworks homepage\"],\n",
    "        \"ai_enrichment\": [\"AI data OpenAI\", \"AI data DeepMind\", \"AI data Zoho\", \"AI data Freshworks\"]\n",
    "    })\n",
    "\n",
    "try:\n",
    "    df_info = pd.read_csv(\"fully_enriched_output.csv\")  # company_name, industry, company_size, hq_location\n",
    "except FileNotFoundError:\n",
    "    df_info = pd.DataFrame({\n",
    "        \"company_name\": [\"OpenAI\", \"DeepMind\", \"Zoho\", \"Freshworks\"],\n",
    "        \"industry\": [\"AI Research\", \"AI Research\", \"Software\", \"Software\"],\n",
    "        \"company_size\": [\"500+\", \"1000+\", \"2000+\", \"1500+\"],\n",
    "        \"hq_location\": [\"San Francisco, CA\", \"London, UK\", \"Chennai, India\", \"San Mateo, CA\"]\n",
    "    })\n",
    "\n",
    "# Step 2: Add website column if missing\n",
    "def guess_domain(company_name):\n",
    "    return company_name.lower().replace(\" \", \"\") + \".com\"\n",
    "\n",
    "if \"website\" not in df_info.columns:\n",
    "    df_info[\"website\"] = df_info[\"company_name\"].apply(guess_domain)\n",
    "\n",
    "# Step 3: Merge the dataframes on company_name\n",
    "df_final = pd.merge(df_basic, df_info, on=\"company_name\", how=\"outer\")\n",
    "\n",
    "# Step 4: Save the combined dataframe\n",
    "df_final.to_csv(\"fully_enriched_output.csv\", index=False)\n",
    "\n",
    "print(\"Combined CSV saved as fully_enriched_output.csv\")\n",
    "print(df_final.head())\n"
   ]
  },
  {
   "cell_type": "code",
   "execution_count": 104,
   "id": "ebd663e2",
   "metadata": {},
   "outputs": [
    {
     "name": "stdout",
     "output_type": "stream",
     "text": [
      "Missing columns: ['summary_from_llm', 'automation_pitch_from_llm']\n"
     ]
    },
    {
     "data": {
      "text/plain": [
       "False"
      ]
     },
     "execution_count": 104,
     "metadata": {},
     "output_type": "execute_result"
    }
   ],
   "source": [
    "import pandas as pd\n",
    "import re\n",
    "\n",
    "def validate_enriched_csv(csv_path):\n",
    "    df = pd.read_csv(csv_path)\n",
    "\n",
    "    expected_cols = ['company_name', 'website', 'industry', 'summary_from_llm', 'automation_pitch_from_llm']\n",
    "    missing_cols = [col for col in expected_cols if col not in df.columns]\n",
    "    if missing_cols:\n",
    "        print(f\"Missing columns: {missing_cols}\")\n",
    "        return False\n",
    "    else:\n",
    "        print(\"All expected columns are present.\")\n",
    "\n",
    "    # Check missing values\n",
    "    missing_values = df[expected_cols].isnull().sum()\n",
    "    print(\"\\nMissing values per column:\")\n",
    "    print(missing_values)\n",
    "\n",
    "    # Check website format (basic regex)\n",
    "    url_pattern = re.compile(r'https?://\\S+')\n",
    "    invalid_websites = df[~df['website'].astype(str).str.match(url_pattern)]\n",
    "    print(f\"\\nRows with invalid website URLs: {len(invalid_websites)}\")\n",
    "\n",
    "    # Check minimum length for summary and pitch\n",
    "    short_summaries = df[df['summary_from_llm'].astype(str).str.len() < 20]\n",
    "    short_pitches = df[df['automation_pitch_from_llm'].astype(str).str.len() < 20]\n",
    "    print(f\"\\nRows with very short summaries (<20 chars): {len(short_summaries)}\")\n",
    "    print(f\"Rows with very short pitches (<20 chars): {len(short_pitches)}\")\n",
    "\n",
    "    # Optionally print a few bad examples\n",
    "    if len(invalid_websites) > 0:\n",
    "        print(\"\\nSample invalid websites:\")\n",
    "        print(invalid_websites[['company_name', 'website']].head())\n",
    "\n",
    "    if len(short_summaries) > 0:\n",
    "        print(\"\\nSample short summaries:\")\n",
    "        print(short_summaries[['company_name', 'summary_from_llm']].head())\n",
    "\n",
    "    if len(short_pitches) > 0:\n",
    "        print(\"\\nSample short pitches:\")\n",
    "        print(short_pitches[['company_name', 'automation_pitch_from_llm']].head())\n",
    "\n",
    "    return True\n",
    "\n",
    "# Run validation\n",
    "csv_file = \"fully_enriched_output.csv\"  # your final CSV path here\n",
    "validate_enriched_csv(csv_file)\n"
   ]
  },
  {
   "cell_type": "code",
   "execution_count": 105,
   "id": "e0c6ad48",
   "metadata": {},
   "outputs": [
    {
     "name": "stdout",
     "output_type": "stream",
     "text": [
      "API call failed with status code 404\n",
      "Response: {\"error\":{\"message\":\"Unknown request URL: POST /v1/your-endpoint. Please check the URL for typos, or see the docs at https://console.groq.com/docs/\",\"type\":\"invalid_request_error\",\"code\":\"unknown_url\"}}\n",
      "\n"
     ]
    }
   ],
   "source": [
    "import requests\n",
    "\n",
    "def test_llm_api():\n",
    "    url = \"https://api.groq.com/v1/your-endpoint\"  # replace with actual endpoint\n",
    "    headers = {\n",
    "        \"Authorization\": \"Bearer YOUR_API_KEY_HERE\",  # replace with your actual API key\n",
    "        \"Content-Type\": \"application/json\"\n",
    "    }\n",
    "    payload = {\n",
    "        \"input\": \"Describe what OpenAI does and suggest an AI automation idea.\"\n",
    "    }\n",
    "    \n",
    "    response = requests.post(url, headers=headers, json=payload)\n",
    "    \n",
    "    if response.status_code == 200:\n",
    "        print(\"API call successful!\")\n",
    "        print(\"Response:\", response.json())\n",
    "        return response.json()\n",
    "    else:\n",
    "        print(f\"API call failed with status code {response.status_code}\")\n",
    "        print(\"Response:\", response.text)\n",
    "        return None\n",
    "\n",
    "# Run the test\n",
    "test_llm_api()\n"
   ]
  },
  {
   "cell_type": "code",
   "execution_count": 108,
   "id": "069e66c6",
   "metadata": {},
   "outputs": [
    {
     "name": "stdout",
     "output_type": "stream",
     "text": [
      "Failed with status code 401: {\n",
      "  \"error\": {\n",
      "    \"code\": 401,\n",
      "    \"message\": \"Request had invalid authentication credentials. Expected OAuth 2 access token, login cookie or other valid authentication credential. See https://developers.google.com/identity/sign-in/web/devconsole-project.\",\n",
      "    \"status\": \"UNAUTHENTICATED\"\n",
      "  }\n",
      "}\n",
      "\n"
     ]
    }
   ],
   "source": [
    "import requests\n",
    "\n",
    "api_key = \"AlzaSyDmSCOArE46HNNdW7o7kE50p352DSeok3E\"\n",
    "url = \"https://generativelanguage.googleapis.com/v1beta2/models/text-bison-001:generateText\"\n",
    "\n",
    "headers = {\n",
    "    \"Content-Type\": \"application/json\",\n",
    "    \"Authorization\": f\"Bearer {api_key}\"\n",
    "}\n",
    "\n",
    "data = {\n",
    "    \"prompt\": {\n",
    "        \"text\": \"Summarize what the company OpenAI does and suggest a custom AI automation idea.\"\n",
    "    },\n",
    "    \"temperature\": 0.7,\n",
    "    \"maxOutputTokens\": 200,\n",
    "}\n",
    "\n",
    "response = requests.post(url, headers=headers, json=data)\n",
    "\n",
    "if response.status_code == 200:\n",
    "    result = response.json()\n",
    "    print(result)\n",
    "else:\n",
    "    print(f\"Failed with status code {response.status_code}: {response.text}\")\n"
   ]
  },
  {
   "cell_type": "code",
   "execution_count": 109,
   "id": "41672071",
   "metadata": {},
   "outputs": [],
   "source": [
    "openai.api_base = \"https://api.groq.com/openai/v1\"\n"
   ]
  },
  {
   "cell_type": "code",
   "execution_count": 114,
   "id": "c444d2fb",
   "metadata": {},
   "outputs": [
    {
     "name": "stdout",
     "output_type": "stream",
     "text": [
      "API call failed with error: \n",
      "\n",
      "You tried to access openai.ChatCompletion, but this is no longer supported in openai>=1.0.0 - see the README at https://github.com/openai/openai-python for the API.\n",
      "\n",
      "You can run `openai migrate` to automatically upgrade your codebase to use the 1.0.0 interface. \n",
      "\n",
      "Alternatively, you can pin your installation to the old version, e.g. `pip install openai==0.28`\n",
      "\n",
      "A detailed migration guide is available here: https://github.com/openai/openai-python/discussions/742\n",
      "\n"
     ]
    }
   ],
   "source": [
    "import openai\n",
    "import os\n",
    "\n",
    "# Set your new Groq API key here\n",
    "os.environ[\"OPENAI_API_KEY\"] = \"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\"\n",
    "openai.api_key = os.environ[\"OPENAI_API_KEY\"]\n",
    "\n",
    "# Set Groq OpenAI-compatible API base URL\n",
    "openai.api_base = \"https://api.groq.com/openai/v1\"\n",
    "\n",
    "try:\n",
    "    response = openai.ChatCompletion.create(\n",
    "        model=\"gpt-4o-mini\",\n",
    "        messages=[\n",
    "            {\"role\": \"user\", \"content\": \"Hello from Groq API! Can you confirm this is working?\"}\n",
    "        ]\n",
    "    )\n",
    "    print(\"API call succeeded. Response:\")\n",
    "    print(response.choices[0].message.content)\n",
    "except Exception as e:\n",
    "    print(f\"API call failed with error: {e}\")\n"
   ]
  },
  {
   "cell_type": "code",
   "execution_count": 113,
   "id": "26846e2e",
   "metadata": {},
   "outputs": [
    {
     "name": "stdout",
     "output_type": "stream",
     "text": [
      "Defaulting to user installation because normal site-packages is not writeable\n",
      "Collecting openai==0.28\n",
      "  Using cached openai-0.28.0-py3-none-any.whl.metadata (13 kB)\n",
      "Requirement already satisfied: requests>=2.20 in c:\\users\\acer\\appdata\\local\\packages\\pythonsoftwarefoundation.python.3.12_qbz5n2kfra8p0\\localcache\\local-packages\\python312\\site-packages (from openai==0.28) (2.32.3)\n",
      "Requirement already satisfied: tqdm in c:\\users\\acer\\appdata\\local\\packages\\pythonsoftwarefoundation.python.3.12_qbz5n2kfra8p0\\localcache\\local-packages\\python312\\site-packages (from openai==0.28) (4.67.1)\n",
      "Collecting aiohttp (from openai==0.28)\n",
      "  Downloading aiohttp-3.12.6-cp312-cp312-win_amd64.whl.metadata (7.9 kB)\n",
      "Requirement already satisfied: charset-normalizer<4,>=2 in c:\\users\\acer\\appdata\\local\\packages\\pythonsoftwarefoundation.python.3.12_qbz5n2kfra8p0\\localcache\\local-packages\\python312\\site-packages (from requests>=2.20->openai==0.28) (3.4.2)\n",
      "Requirement already satisfied: idna<4,>=2.5 in c:\\users\\acer\\appdata\\local\\packages\\pythonsoftwarefoundation.python.3.12_qbz5n2kfra8p0\\localcache\\local-packages\\python312\\site-packages (from requests>=2.20->openai==0.28) (3.10)\n",
      "Requirement already satisfied: urllib3<3,>=1.21.1 in c:\\users\\acer\\appdata\\local\\packages\\pythonsoftwarefoundation.python.3.12_qbz5n2kfra8p0\\localcache\\local-packages\\python312\\site-packages (from requests>=2.20->openai==0.28) (2.4.0)\n",
      "Requirement already satisfied: certifi>=2017.4.17 in c:\\users\\acer\\appdata\\local\\packages\\pythonsoftwarefoundation.python.3.12_qbz5n2kfra8p0\\localcache\\local-packages\\python312\\site-packages (from requests>=2.20->openai==0.28) (2025.4.26)\n",
      "Collecting aiohappyeyeballs>=2.5.0 (from aiohttp->openai==0.28)\n",
      "  Using cached aiohappyeyeballs-2.6.1-py3-none-any.whl.metadata (5.9 kB)\n",
      "Collecting aiosignal>=1.1.2 (from aiohttp->openai==0.28)\n",
      "  Using cached aiosignal-1.3.2-py2.py3-none-any.whl.metadata (3.8 kB)\n",
      "Requirement already satisfied: attrs>=17.3.0 in c:\\users\\acer\\appdata\\local\\packages\\pythonsoftwarefoundation.python.3.12_qbz5n2kfra8p0\\localcache\\local-packages\\python312\\site-packages (from aiohttp->openai==0.28) (25.3.0)\n",
      "Collecting frozenlist>=1.1.1 (from aiohttp->openai==0.28)\n",
      "  Downloading frozenlist-1.6.0-cp312-cp312-win_amd64.whl.metadata (16 kB)\n",
      "Collecting multidict<7.0,>=4.5 (from aiohttp->openai==0.28)\n",
      "  Downloading multidict-6.4.4-cp312-cp312-win_amd64.whl.metadata (5.5 kB)\n",
      "Collecting propcache>=0.2.0 (from aiohttp->openai==0.28)\n",
      "  Downloading propcache-0.3.1-cp312-cp312-win_amd64.whl.metadata (11 kB)\n",
      "Collecting yarl<2.0,>=1.17.0 (from aiohttp->openai==0.28)\n",
      "  Downloading yarl-1.20.0-cp312-cp312-win_amd64.whl.metadata (74 kB)\n",
      "Requirement already satisfied: colorama in c:\\users\\acer\\appdata\\local\\packages\\pythonsoftwarefoundation.python.3.12_qbz5n2kfra8p0\\localcache\\local-packages\\python312\\site-packages (from tqdm->openai==0.28) (0.4.6)\n",
      "Using cached openai-0.28.0-py3-none-any.whl (76 kB)\n",
      "Downloading aiohttp-3.12.6-cp312-cp312-win_amd64.whl (440 kB)\n",
      "Using cached aiohappyeyeballs-2.6.1-py3-none-any.whl (15 kB)\n",
      "Using cached aiosignal-1.3.2-py2.py3-none-any.whl (7.6 kB)\n",
      "Downloading frozenlist-1.6.0-cp312-cp312-win_amd64.whl (120 kB)\n",
      "Downloading multidict-6.4.4-cp312-cp312-win_amd64.whl (38 kB)\n",
      "Downloading propcache-0.3.1-cp312-cp312-win_amd64.whl (44 kB)\n",
      "Downloading yarl-1.20.0-cp312-cp312-win_amd64.whl (92 kB)\n",
      "Installing collected packages: propcache, multidict, frozenlist, aiohappyeyeballs, yarl, aiosignal, aiohttp, openai\n",
      "  Attempting uninstall: openai\n",
      "    Found existing installation: openai 1.82.1\n",
      "    Uninstalling openai-1.82.1:\n",
      "      Successfully uninstalled openai-1.82.1\n",
      "Successfully installed aiohappyeyeballs-2.6.1 aiohttp-3.12.6 aiosignal-1.3.2 frozenlist-1.6.0 multidict-6.4.4 openai-0.28.0 propcache-0.3.1 yarl-1.20.0\n"
     ]
    },
    {
     "name": "stderr",
     "output_type": "stream",
     "text": [
      "\n",
      "[notice] A new release of pip is available: 25.0.1 -> 25.1.1\n",
      "[notice] To update, run: C:\\Users\\acer\\AppData\\Local\\Microsoft\\WindowsApps\\PythonSoftwareFoundation.Python.3.12_qbz5n2kfra8p0\\python.exe -m pip install --upgrade pip\n"
     ]
    }
   ],
   "source": [
    "!pip install openai==0.28"
   ]
  },
  {
   "cell_type": "code",
   "execution_count": 115,
   "id": "f55220b0",
   "metadata": {},
   "outputs": [
    {
     "name": "stdout",
     "output_type": "stream",
     "text": [
      "Error: \n",
      "\n",
      "You tried to access openai.ChatCompletion, but this is no longer supported in openai>=1.0.0 - see the README at https://github.com/openai/openai-python for the API.\n",
      "\n",
      "You can run `openai migrate` to automatically upgrade your codebase to use the 1.0.0 interface. \n",
      "\n",
      "Alternatively, you can pin your installation to the old version, e.g. `pip install openai==0.28`\n",
      "\n",
      "A detailed migration guide is available here: https://github.com/openai/openai-python/discussions/742\n",
      "\n"
     ]
    }
   ],
   "source": [
    "import openai\n",
    "import os\n",
    "\n",
    "os.environ[\"OPENAI_API_KEY\"] = \"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\"\n",
    "openai.api_key = os.environ[\"OPENAI_API_KEY\"]\n",
    "openai.api_base = \"https://api.groq.com/openai/v1\"\n",
    "\n",
    "try:\n",
    "    response = openai.ChatCompletion.create(\n",
    "        model=\"gpt-4o-mini\",\n",
    "        messages=[\n",
    "            {\"role\": \"user\", \"content\": \"Hello, is Groq API working with ChatCompletion?\"}\n",
    "        ]\n",
    "    )\n",
    "    print(response.choices[0].message.content)\n",
    "except Exception as e:\n",
    "    print(\"Error:\", e)\n"
   ]
  },
  {
   "cell_type": "code",
   "execution_count": 2,
   "id": "db6763a0",
   "metadata": {},
   "outputs": [
    {
     "ename": "InvalidRequestError",
     "evalue": "The model `gpt-4o-mini` does not exist or you do not have access to it.",
     "output_type": "error",
     "traceback": [
      "\u001b[31m---------------------------------------------------------------------------\u001b[39m",
      "\u001b[31mInvalidRequestError\u001b[39m                       Traceback (most recent call last)",
      "\u001b[36mCell\u001b[39m\u001b[36m \u001b[39m\u001b[32mIn[2]\u001b[39m\u001b[32m, line 9\u001b[39m\n\u001b[32m      6\u001b[39m openai.api_key = os.environ[\u001b[33m\"\u001b[39m\u001b[33mOPENAI_API_KEY\u001b[39m\u001b[33m\"\u001b[39m]\n\u001b[32m      7\u001b[39m openai.api_base = \u001b[33m\"\u001b[39m\u001b[33mhttps://api.groq.com/openai/v1\u001b[39m\u001b[33m\"\u001b[39m\n\u001b[32m----> \u001b[39m\u001b[32m9\u001b[39m response = \u001b[43mopenai\u001b[49m\u001b[43m.\u001b[49m\u001b[43mChatCompletion\u001b[49m\u001b[43m.\u001b[49m\u001b[43mcreate\u001b[49m\u001b[43m(\u001b[49m\n\u001b[32m     10\u001b[39m \u001b[43m    \u001b[49m\u001b[43mmodel\u001b[49m\u001b[43m=\u001b[49m\u001b[33;43m\"\u001b[39;49m\u001b[33;43mgpt-4o-mini\u001b[39;49m\u001b[33;43m\"\u001b[39;49m\u001b[43m,\u001b[49m\n\u001b[32m     11\u001b[39m \u001b[43m    \u001b[49m\u001b[43mmessages\u001b[49m\u001b[43m=\u001b[49m\u001b[43m[\u001b[49m\n\u001b[32m     12\u001b[39m \u001b[43m        \u001b[49m\u001b[43m{\u001b[49m\u001b[33;43m\"\u001b[39;49m\u001b[33;43mrole\u001b[39;49m\u001b[33;43m\"\u001b[39;49m\u001b[43m:\u001b[49m\u001b[43m \u001b[49m\u001b[33;43m\"\u001b[39;49m\u001b[33;43muser\u001b[39;49m\u001b[33;43m\"\u001b[39;49m\u001b[43m,\u001b[49m\u001b[43m \u001b[49m\u001b[33;43m\"\u001b[39;49m\u001b[33;43mcontent\u001b[39;49m\u001b[33;43m\"\u001b[39;49m\u001b[43m:\u001b[49m\u001b[43m \u001b[49m\u001b[33;43m\"\u001b[39;49m\u001b[33;43mSummarize what this company does: ExampleCorp.\u001b[39;49m\u001b[33;43m\"\u001b[39;49m\u001b[43m}\u001b[49m\n\u001b[32m     13\u001b[39m \u001b[43m    \u001b[49m\u001b[43m]\u001b[49m\u001b[43m,\u001b[49m\n\u001b[32m     14\u001b[39m \u001b[43m    \u001b[49m\u001b[43mtemperature\u001b[49m\u001b[43m=\u001b[49m\u001b[32;43m1.0\u001b[39;49m\u001b[43m,\u001b[49m\n\u001b[32m     15\u001b[39m \u001b[43m    \u001b[49m\u001b[43mn\u001b[49m\u001b[43m=\u001b[49m\u001b[32;43m1\u001b[39;49m\u001b[43m,\u001b[49m\n\u001b[32m     16\u001b[39m \u001b[43m)\u001b[49m\n\u001b[32m     18\u001b[39m \u001b[38;5;28mprint\u001b[39m(response.choices[\u001b[32m0\u001b[39m].message.content)\n",
      "\u001b[36mFile \u001b[39m\u001b[32m~\\AppData\\Local\\Packages\\PythonSoftwareFoundation.Python.3.12_qbz5n2kfra8p0\\LocalCache\\local-packages\\Python312\\site-packages\\openai\\api_resources\\chat_completion.py:25\u001b[39m, in \u001b[36mChatCompletion.create\u001b[39m\u001b[34m(cls, *args, **kwargs)\u001b[39m\n\u001b[32m     23\u001b[39m \u001b[38;5;28;01mwhile\u001b[39;00m \u001b[38;5;28;01mTrue\u001b[39;00m:\n\u001b[32m     24\u001b[39m     \u001b[38;5;28;01mtry\u001b[39;00m:\n\u001b[32m---> \u001b[39m\u001b[32m25\u001b[39m         \u001b[38;5;28;01mreturn\u001b[39;00m \u001b[38;5;28;43msuper\u001b[39;49m\u001b[43m(\u001b[49m\u001b[43m)\u001b[49m\u001b[43m.\u001b[49m\u001b[43mcreate\u001b[49m\u001b[43m(\u001b[49m\u001b[43m*\u001b[49m\u001b[43margs\u001b[49m\u001b[43m,\u001b[49m\u001b[43m \u001b[49m\u001b[43m*\u001b[49m\u001b[43m*\u001b[49m\u001b[43mkwargs\u001b[49m\u001b[43m)\u001b[49m\n\u001b[32m     26\u001b[39m     \u001b[38;5;28;01mexcept\u001b[39;00m TryAgain \u001b[38;5;28;01mas\u001b[39;00m e:\n\u001b[32m     27\u001b[39m         \u001b[38;5;28;01mif\u001b[39;00m timeout \u001b[38;5;129;01mis\u001b[39;00m \u001b[38;5;129;01mnot\u001b[39;00m \u001b[38;5;28;01mNone\u001b[39;00m \u001b[38;5;129;01mand\u001b[39;00m time.time() > start + timeout:\n",
      "\u001b[36mFile \u001b[39m\u001b[32m~\\AppData\\Local\\Packages\\PythonSoftwareFoundation.Python.3.12_qbz5n2kfra8p0\\LocalCache\\local-packages\\Python312\\site-packages\\openai\\api_resources\\abstract\\engine_api_resource.py:153\u001b[39m, in \u001b[36mEngineAPIResource.create\u001b[39m\u001b[34m(cls, api_key, api_base, api_type, request_id, api_version, organization, **params)\u001b[39m\n\u001b[32m    127\u001b[39m \u001b[38;5;129m@classmethod\u001b[39m\n\u001b[32m    128\u001b[39m \u001b[38;5;28;01mdef\u001b[39;00m\u001b[38;5;250m \u001b[39m\u001b[34mcreate\u001b[39m(\n\u001b[32m    129\u001b[39m     \u001b[38;5;28mcls\u001b[39m,\n\u001b[32m   (...)\u001b[39m\u001b[32m    136\u001b[39m     **params,\n\u001b[32m    137\u001b[39m ):\n\u001b[32m    138\u001b[39m     (\n\u001b[32m    139\u001b[39m         deployment_id,\n\u001b[32m    140\u001b[39m         engine,\n\u001b[32m   (...)\u001b[39m\u001b[32m    150\u001b[39m         api_key, api_base, api_type, api_version, organization, **params\n\u001b[32m    151\u001b[39m     )\n\u001b[32m--> \u001b[39m\u001b[32m153\u001b[39m     response, _, api_key = \u001b[43mrequestor\u001b[49m\u001b[43m.\u001b[49m\u001b[43mrequest\u001b[49m\u001b[43m(\u001b[49m\n\u001b[32m    154\u001b[39m \u001b[43m        \u001b[49m\u001b[33;43m\"\u001b[39;49m\u001b[33;43mpost\u001b[39;49m\u001b[33;43m\"\u001b[39;49m\u001b[43m,\u001b[49m\n\u001b[32m    155\u001b[39m \u001b[43m        \u001b[49m\u001b[43murl\u001b[49m\u001b[43m,\u001b[49m\n\u001b[32m    156\u001b[39m \u001b[43m        \u001b[49m\u001b[43mparams\u001b[49m\u001b[43m=\u001b[49m\u001b[43mparams\u001b[49m\u001b[43m,\u001b[49m\n\u001b[32m    157\u001b[39m \u001b[43m        \u001b[49m\u001b[43mheaders\u001b[49m\u001b[43m=\u001b[49m\u001b[43mheaders\u001b[49m\u001b[43m,\u001b[49m\n\u001b[32m    158\u001b[39m \u001b[43m        \u001b[49m\u001b[43mstream\u001b[49m\u001b[43m=\u001b[49m\u001b[43mstream\u001b[49m\u001b[43m,\u001b[49m\n\u001b[32m    159\u001b[39m \u001b[43m        \u001b[49m\u001b[43mrequest_id\u001b[49m\u001b[43m=\u001b[49m\u001b[43mrequest_id\u001b[49m\u001b[43m,\u001b[49m\n\u001b[32m    160\u001b[39m \u001b[43m        \u001b[49m\u001b[43mrequest_timeout\u001b[49m\u001b[43m=\u001b[49m\u001b[43mrequest_timeout\u001b[49m\u001b[43m,\u001b[49m\n\u001b[32m    161\u001b[39m \u001b[43m    \u001b[49m\u001b[43m)\u001b[49m\n\u001b[32m    163\u001b[39m     \u001b[38;5;28;01mif\u001b[39;00m stream:\n\u001b[32m    164\u001b[39m         \u001b[38;5;66;03m# must be an iterator\u001b[39;00m\n\u001b[32m    165\u001b[39m         \u001b[38;5;28;01massert\u001b[39;00m \u001b[38;5;129;01mnot\u001b[39;00m \u001b[38;5;28misinstance\u001b[39m(response, OpenAIResponse)\n",
      "\u001b[36mFile \u001b[39m\u001b[32m~\\AppData\\Local\\Packages\\PythonSoftwareFoundation.Python.3.12_qbz5n2kfra8p0\\LocalCache\\local-packages\\Python312\\site-packages\\openai\\api_requestor.py:298\u001b[39m, in \u001b[36mAPIRequestor.request\u001b[39m\u001b[34m(self, method, url, params, headers, files, stream, request_id, request_timeout)\u001b[39m\n\u001b[32m    277\u001b[39m \u001b[38;5;28;01mdef\u001b[39;00m\u001b[38;5;250m \u001b[39m\u001b[34mrequest\u001b[39m(\n\u001b[32m    278\u001b[39m     \u001b[38;5;28mself\u001b[39m,\n\u001b[32m    279\u001b[39m     method,\n\u001b[32m   (...)\u001b[39m\u001b[32m    286\u001b[39m     request_timeout: Optional[Union[\u001b[38;5;28mfloat\u001b[39m, Tuple[\u001b[38;5;28mfloat\u001b[39m, \u001b[38;5;28mfloat\u001b[39m]]] = \u001b[38;5;28;01mNone\u001b[39;00m,\n\u001b[32m    287\u001b[39m ) -> Tuple[Union[OpenAIResponse, Iterator[OpenAIResponse]], \u001b[38;5;28mbool\u001b[39m, \u001b[38;5;28mstr\u001b[39m]:\n\u001b[32m    288\u001b[39m     result = \u001b[38;5;28mself\u001b[39m.request_raw(\n\u001b[32m    289\u001b[39m         method.lower(),\n\u001b[32m    290\u001b[39m         url,\n\u001b[32m   (...)\u001b[39m\u001b[32m    296\u001b[39m         request_timeout=request_timeout,\n\u001b[32m    297\u001b[39m     )\n\u001b[32m--> \u001b[39m\u001b[32m298\u001b[39m     resp, got_stream = \u001b[38;5;28;43mself\u001b[39;49m\u001b[43m.\u001b[49m\u001b[43m_interpret_response\u001b[49m\u001b[43m(\u001b[49m\u001b[43mresult\u001b[49m\u001b[43m,\u001b[49m\u001b[43m \u001b[49m\u001b[43mstream\u001b[49m\u001b[43m)\u001b[49m\n\u001b[32m    299\u001b[39m     \u001b[38;5;28;01mreturn\u001b[39;00m resp, got_stream, \u001b[38;5;28mself\u001b[39m.api_key\n",
      "\u001b[36mFile \u001b[39m\u001b[32m~\\AppData\\Local\\Packages\\PythonSoftwareFoundation.Python.3.12_qbz5n2kfra8p0\\LocalCache\\local-packages\\Python312\\site-packages\\openai\\api_requestor.py:700\u001b[39m, in \u001b[36mAPIRequestor._interpret_response\u001b[39m\u001b[34m(self, result, stream)\u001b[39m\n\u001b[32m    692\u001b[39m     \u001b[38;5;28;01mreturn\u001b[39;00m (\n\u001b[32m    693\u001b[39m         \u001b[38;5;28mself\u001b[39m._interpret_response_line(\n\u001b[32m    694\u001b[39m             line, result.status_code, result.headers, stream=\u001b[38;5;28;01mTrue\u001b[39;00m\n\u001b[32m    695\u001b[39m         )\n\u001b[32m    696\u001b[39m         \u001b[38;5;28;01mfor\u001b[39;00m line \u001b[38;5;129;01min\u001b[39;00m parse_stream(result.iter_lines())\n\u001b[32m    697\u001b[39m     ), \u001b[38;5;28;01mTrue\u001b[39;00m\n\u001b[32m    698\u001b[39m \u001b[38;5;28;01melse\u001b[39;00m:\n\u001b[32m    699\u001b[39m     \u001b[38;5;28;01mreturn\u001b[39;00m (\n\u001b[32m--> \u001b[39m\u001b[32m700\u001b[39m         \u001b[38;5;28;43mself\u001b[39;49m\u001b[43m.\u001b[49m\u001b[43m_interpret_response_line\u001b[49m\u001b[43m(\u001b[49m\n\u001b[32m    701\u001b[39m \u001b[43m            \u001b[49m\u001b[43mresult\u001b[49m\u001b[43m.\u001b[49m\u001b[43mcontent\u001b[49m\u001b[43m.\u001b[49m\u001b[43mdecode\u001b[49m\u001b[43m(\u001b[49m\u001b[33;43m\"\u001b[39;49m\u001b[33;43mutf-8\u001b[39;49m\u001b[33;43m\"\u001b[39;49m\u001b[43m)\u001b[49m\u001b[43m,\u001b[49m\n\u001b[32m    702\u001b[39m \u001b[43m            \u001b[49m\u001b[43mresult\u001b[49m\u001b[43m.\u001b[49m\u001b[43mstatus_code\u001b[49m\u001b[43m,\u001b[49m\n\u001b[32m    703\u001b[39m \u001b[43m            \u001b[49m\u001b[43mresult\u001b[49m\u001b[43m.\u001b[49m\u001b[43mheaders\u001b[49m\u001b[43m,\u001b[49m\n\u001b[32m    704\u001b[39m \u001b[43m            \u001b[49m\u001b[43mstream\u001b[49m\u001b[43m=\u001b[49m\u001b[38;5;28;43;01mFalse\u001b[39;49;00m\u001b[43m,\u001b[49m\n\u001b[32m    705\u001b[39m \u001b[43m        \u001b[49m\u001b[43m)\u001b[49m,\n\u001b[32m    706\u001b[39m         \u001b[38;5;28;01mFalse\u001b[39;00m,\n\u001b[32m    707\u001b[39m     )\n",
      "\u001b[36mFile \u001b[39m\u001b[32m~\\AppData\\Local\\Packages\\PythonSoftwareFoundation.Python.3.12_qbz5n2kfra8p0\\LocalCache\\local-packages\\Python312\\site-packages\\openai\\api_requestor.py:765\u001b[39m, in \u001b[36mAPIRequestor._interpret_response_line\u001b[39m\u001b[34m(self, rbody, rcode, rheaders, stream)\u001b[39m\n\u001b[32m    763\u001b[39m stream_error = stream \u001b[38;5;129;01mand\u001b[39;00m \u001b[33m\"\u001b[39m\u001b[33merror\u001b[39m\u001b[33m\"\u001b[39m \u001b[38;5;129;01min\u001b[39;00m resp.data\n\u001b[32m    764\u001b[39m \u001b[38;5;28;01mif\u001b[39;00m stream_error \u001b[38;5;129;01mor\u001b[39;00m \u001b[38;5;129;01mnot\u001b[39;00m \u001b[32m200\u001b[39m <= rcode < \u001b[32m300\u001b[39m:\n\u001b[32m--> \u001b[39m\u001b[32m765\u001b[39m     \u001b[38;5;28;01mraise\u001b[39;00m \u001b[38;5;28mself\u001b[39m.handle_error_response(\n\u001b[32m    766\u001b[39m         rbody, rcode, resp.data, rheaders, stream_error=stream_error\n\u001b[32m    767\u001b[39m     )\n\u001b[32m    768\u001b[39m \u001b[38;5;28;01mreturn\u001b[39;00m resp\n",
      "\u001b[31mInvalidRequestError\u001b[39m: The model `gpt-4o-mini` does not exist or you do not have access to it."
     ]
    }
   ],
   "source": [
    "import os\n",
    "import openai\n",
    "\n",
    "# Set API key and base for Groq API\n",
    "os.environ[\"OPENAI_API_KEY\"] = \"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\"\n",
    "openai.api_key = os.environ[\"OPENAI_API_KEY\"]\n",
    "openai.api_base = \"https://api.groq.com/openai/v1\"\n",
    "\n",
    "response = openai.ChatCompletion.create(\n",
    "    model=\"gpt-4o-mini\",\n",
    "    messages=[\n",
    "        {\"role\": \"user\", \"content\": \"Summarize what this company does: ExampleCorp.\"}\n",
    "    ],\n",
    "    temperature=1.0,\n",
    "    n=1,\n",
    ")\n",
    "\n",
    "print(response.choices[0].message.content)\n"
   ]
  },
  {
   "cell_type": "code",
   "execution_count": 117,
   "id": "dd06c381",
   "metadata": {},
   "outputs": [
    {
     "name": "stdout",
     "output_type": "stream",
     "text": [
      "Defaulting to user installation because normal site-packages is not writeable\n",
      "Requirement already satisfied: openai==0.28 in c:\\users\\acer\\appdata\\local\\packages\\pythonsoftwarefoundation.python.3.12_qbz5n2kfra8p0\\localcache\\local-packages\\python312\\site-packages (0.28.0)\n",
      "Requirement already satisfied: requests>=2.20 in c:\\users\\acer\\appdata\\local\\packages\\pythonsoftwarefoundation.python.3.12_qbz5n2kfra8p0\\localcache\\local-packages\\python312\\site-packages (from openai==0.28) (2.32.3)\n",
      "Requirement already satisfied: tqdm in c:\\users\\acer\\appdata\\local\\packages\\pythonsoftwarefoundation.python.3.12_qbz5n2kfra8p0\\localcache\\local-packages\\python312\\site-packages (from openai==0.28) (4.67.1)\n",
      "Requirement already satisfied: aiohttp in c:\\users\\acer\\appdata\\local\\packages\\pythonsoftwarefoundation.python.3.12_qbz5n2kfra8p0\\localcache\\local-packages\\python312\\site-packages (from openai==0.28) (3.12.6)\n",
      "Requirement already satisfied: charset-normalizer<4,>=2 in c:\\users\\acer\\appdata\\local\\packages\\pythonsoftwarefoundation.python.3.12_qbz5n2kfra8p0\\localcache\\local-packages\\python312\\site-packages (from requests>=2.20->openai==0.28) (3.4.2)\n",
      "Requirement already satisfied: idna<4,>=2.5 in c:\\users\\acer\\appdata\\local\\packages\\pythonsoftwarefoundation.python.3.12_qbz5n2kfra8p0\\localcache\\local-packages\\python312\\site-packages (from requests>=2.20->openai==0.28) (3.10)\n",
      "Requirement already satisfied: urllib3<3,>=1.21.1 in c:\\users\\acer\\appdata\\local\\packages\\pythonsoftwarefoundation.python.3.12_qbz5n2kfra8p0\\localcache\\local-packages\\python312\\site-packages (from requests>=2.20->openai==0.28) (2.4.0)\n",
      "Requirement already satisfied: certifi>=2017.4.17 in c:\\users\\acer\\appdata\\local\\packages\\pythonsoftwarefoundation.python.3.12_qbz5n2kfra8p0\\localcache\\local-packages\\python312\\site-packages (from requests>=2.20->openai==0.28) (2025.4.26)\n",
      "Requirement already satisfied: aiohappyeyeballs>=2.5.0 in c:\\users\\acer\\appdata\\local\\packages\\pythonsoftwarefoundation.python.3.12_qbz5n2kfra8p0\\localcache\\local-packages\\python312\\site-packages (from aiohttp->openai==0.28) (2.6.1)\n",
      "Requirement already satisfied: aiosignal>=1.1.2 in c:\\users\\acer\\appdata\\local\\packages\\pythonsoftwarefoundation.python.3.12_qbz5n2kfra8p0\\localcache\\local-packages\\python312\\site-packages (from aiohttp->openai==0.28) (1.3.2)\n",
      "Requirement already satisfied: attrs>=17.3.0 in c:\\users\\acer\\appdata\\local\\packages\\pythonsoftwarefoundation.python.3.12_qbz5n2kfra8p0\\localcache\\local-packages\\python312\\site-packages (from aiohttp->openai==0.28) (25.3.0)\n",
      "Requirement already satisfied: frozenlist>=1.1.1 in c:\\users\\acer\\appdata\\local\\packages\\pythonsoftwarefoundation.python.3.12_qbz5n2kfra8p0\\localcache\\local-packages\\python312\\site-packages (from aiohttp->openai==0.28) (1.6.0)\n",
      "Requirement already satisfied: multidict<7.0,>=4.5 in c:\\users\\acer\\appdata\\local\\packages\\pythonsoftwarefoundation.python.3.12_qbz5n2kfra8p0\\localcache\\local-packages\\python312\\site-packages (from aiohttp->openai==0.28) (6.4.4)\n",
      "Requirement already satisfied: propcache>=0.2.0 in c:\\users\\acer\\appdata\\local\\packages\\pythonsoftwarefoundation.python.3.12_qbz5n2kfra8p0\\localcache\\local-packages\\python312\\site-packages (from aiohttp->openai==0.28) (0.3.1)\n",
      "Requirement already satisfied: yarl<2.0,>=1.17.0 in c:\\users\\acer\\appdata\\local\\packages\\pythonsoftwarefoundation.python.3.12_qbz5n2kfra8p0\\localcache\\local-packages\\python312\\site-packages (from aiohttp->openai==0.28) (1.20.0)\n",
      "Requirement already satisfied: colorama in c:\\users\\acer\\appdata\\local\\packages\\pythonsoftwarefoundation.python.3.12_qbz5n2kfra8p0\\localcache\\local-packages\\python312\\site-packages (from tqdm->openai==0.28) (0.4.6)\n"
     ]
    },
    {
     "name": "stderr",
     "output_type": "stream",
     "text": [
      "\n",
      "[notice] A new release of pip is available: 25.0.1 -> 25.1.1\n",
      "[notice] To update, run: C:\\Users\\acer\\AppData\\Local\\Microsoft\\WindowsApps\\PythonSoftwareFoundation.Python.3.12_qbz5n2kfra8p0\\python.exe -m pip install --upgrade pip\n"
     ]
    }
   ],
   "source": [
    "!pip install openai==0.28"
   ]
  },
  {
   "cell_type": "code",
   "execution_count": 119,
   "id": "8847b2be",
   "metadata": {},
   "outputs": [
    {
     "name": "stdout",
     "output_type": "stream",
     "text": [
      "1.82.1\n"
     ]
    }
   ],
   "source": [
    "import openai\n",
    "print(openai.__version__)\n"
   ]
  },
  {
   "cell_type": "code",
   "execution_count": 120,
   "id": "b8915f9f",
   "metadata": {},
   "outputs": [
    {
     "name": "stdout",
     "output_type": "stream",
     "text": [
      "C:\\Users\\acer\\AppData\\Local\\Microsoft\\WindowsApps\\PythonSoftwareFoundation.Python.3.12_qbz5n2kfra8p0\\python.exe\n"
     ]
    }
   ],
   "source": [
    "import sys\n",
    "print(sys.executable)\n"
   ]
  },
  {
   "cell_type": "code",
   "execution_count": 1,
   "id": "91a3d559",
   "metadata": {},
   "outputs": [
    {
     "name": "stdout",
     "output_type": "stream",
     "text": [
      "0.28.0\n"
     ]
    }
   ],
   "source": [
    "import openai\n",
    "print(openai.__version__)\n"
   ]
  },
  {
   "cell_type": "code",
   "execution_count": 3,
   "id": "ec3cf2b4",
   "metadata": {},
   "outputs": [
    {
     "ename": "InvalidRequestError",
     "evalue": "The model `gpt-4o-mini` does not exist or you do not have access to it.",
     "output_type": "error",
     "traceback": [
      "\u001b[31m---------------------------------------------------------------------------\u001b[39m",
      "\u001b[31mInvalidRequestError\u001b[39m                       Traceback (most recent call last)",
      "\u001b[36mCell\u001b[39m\u001b[36m \u001b[39m\u001b[32mIn[3]\u001b[39m\u001b[32m, line 8\u001b[39m\n\u001b[32m      5\u001b[39m openai.api_key = os.environ[\u001b[33m\"\u001b[39m\u001b[33mOPENAI_API_KEY\u001b[39m\u001b[33m\"\u001b[39m]\n\u001b[32m      6\u001b[39m openai.api_base = \u001b[33m\"\u001b[39m\u001b[33mhttps://api.groq.com/openai/v1\u001b[39m\u001b[33m\"\u001b[39m\n\u001b[32m----> \u001b[39m\u001b[32m8\u001b[39m response = \u001b[43mopenai\u001b[49m\u001b[43m.\u001b[49m\u001b[43mChatCompletion\u001b[49m\u001b[43m.\u001b[49m\u001b[43mcreate\u001b[49m\u001b[43m(\u001b[49m\n\u001b[32m      9\u001b[39m \u001b[43m    \u001b[49m\u001b[43mmodel\u001b[49m\u001b[43m=\u001b[49m\u001b[33;43m\"\u001b[39;49m\u001b[33;43mgpt-4o-mini\u001b[39;49m\u001b[33;43m\"\u001b[39;49m\u001b[43m,\u001b[49m\n\u001b[32m     10\u001b[39m \u001b[43m    \u001b[49m\u001b[43mmessages\u001b[49m\u001b[43m=\u001b[49m\u001b[43m[\u001b[49m\u001b[43m{\u001b[49m\u001b[33;43m\"\u001b[39;49m\u001b[33;43mrole\u001b[39;49m\u001b[33;43m\"\u001b[39;49m\u001b[43m:\u001b[49m\u001b[43m \u001b[49m\u001b[33;43m\"\u001b[39;49m\u001b[33;43muser\u001b[39;49m\u001b[33;43m\"\u001b[39;49m\u001b[43m,\u001b[49m\u001b[43m \u001b[49m\u001b[33;43m\"\u001b[39;49m\u001b[33;43mcontent\u001b[39;49m\u001b[33;43m\"\u001b[39;49m\u001b[43m:\u001b[49m\u001b[43m \u001b[49m\u001b[33;43m\"\u001b[39;49m\u001b[33;43mSummarize what this company does: ExampleCorp.\u001b[39;49m\u001b[33;43m\"\u001b[39;49m\u001b[43m}\u001b[49m\u001b[43m]\u001b[49m\u001b[43m,\u001b[49m\n\u001b[32m     11\u001b[39m \u001b[43m    \u001b[49m\u001b[43mtemperature\u001b[49m\u001b[43m=\u001b[49m\u001b[32;43m1.0\u001b[39;49m\u001b[43m,\u001b[49m\n\u001b[32m     12\u001b[39m \u001b[43m    \u001b[49m\u001b[43mn\u001b[49m\u001b[43m=\u001b[49m\u001b[32;43m1\u001b[39;49m\u001b[43m,\u001b[49m\n\u001b[32m     13\u001b[39m \u001b[43m)\u001b[49m\n\u001b[32m     15\u001b[39m \u001b[38;5;28mprint\u001b[39m(response.choices[\u001b[32m0\u001b[39m].message.content)\n",
      "\u001b[36mFile \u001b[39m\u001b[32m~\\AppData\\Local\\Packages\\PythonSoftwareFoundation.Python.3.12_qbz5n2kfra8p0\\LocalCache\\local-packages\\Python312\\site-packages\\openai\\api_resources\\chat_completion.py:25\u001b[39m, in \u001b[36mChatCompletion.create\u001b[39m\u001b[34m(cls, *args, **kwargs)\u001b[39m\n\u001b[32m     23\u001b[39m \u001b[38;5;28;01mwhile\u001b[39;00m \u001b[38;5;28;01mTrue\u001b[39;00m:\n\u001b[32m     24\u001b[39m     \u001b[38;5;28;01mtry\u001b[39;00m:\n\u001b[32m---> \u001b[39m\u001b[32m25\u001b[39m         \u001b[38;5;28;01mreturn\u001b[39;00m \u001b[38;5;28;43msuper\u001b[39;49m\u001b[43m(\u001b[49m\u001b[43m)\u001b[49m\u001b[43m.\u001b[49m\u001b[43mcreate\u001b[49m\u001b[43m(\u001b[49m\u001b[43m*\u001b[49m\u001b[43margs\u001b[49m\u001b[43m,\u001b[49m\u001b[43m \u001b[49m\u001b[43m*\u001b[49m\u001b[43m*\u001b[49m\u001b[43mkwargs\u001b[49m\u001b[43m)\u001b[49m\n\u001b[32m     26\u001b[39m     \u001b[38;5;28;01mexcept\u001b[39;00m TryAgain \u001b[38;5;28;01mas\u001b[39;00m e:\n\u001b[32m     27\u001b[39m         \u001b[38;5;28;01mif\u001b[39;00m timeout \u001b[38;5;129;01mis\u001b[39;00m \u001b[38;5;129;01mnot\u001b[39;00m \u001b[38;5;28;01mNone\u001b[39;00m \u001b[38;5;129;01mand\u001b[39;00m time.time() > start + timeout:\n",
      "\u001b[36mFile \u001b[39m\u001b[32m~\\AppData\\Local\\Packages\\PythonSoftwareFoundation.Python.3.12_qbz5n2kfra8p0\\LocalCache\\local-packages\\Python312\\site-packages\\openai\\api_resources\\abstract\\engine_api_resource.py:153\u001b[39m, in \u001b[36mEngineAPIResource.create\u001b[39m\u001b[34m(cls, api_key, api_base, api_type, request_id, api_version, organization, **params)\u001b[39m\n\u001b[32m    127\u001b[39m \u001b[38;5;129m@classmethod\u001b[39m\n\u001b[32m    128\u001b[39m \u001b[38;5;28;01mdef\u001b[39;00m\u001b[38;5;250m \u001b[39m\u001b[34mcreate\u001b[39m(\n\u001b[32m    129\u001b[39m     \u001b[38;5;28mcls\u001b[39m,\n\u001b[32m   (...)\u001b[39m\u001b[32m    136\u001b[39m     **params,\n\u001b[32m    137\u001b[39m ):\n\u001b[32m    138\u001b[39m     (\n\u001b[32m    139\u001b[39m         deployment_id,\n\u001b[32m    140\u001b[39m         engine,\n\u001b[32m   (...)\u001b[39m\u001b[32m    150\u001b[39m         api_key, api_base, api_type, api_version, organization, **params\n\u001b[32m    151\u001b[39m     )\n\u001b[32m--> \u001b[39m\u001b[32m153\u001b[39m     response, _, api_key = \u001b[43mrequestor\u001b[49m\u001b[43m.\u001b[49m\u001b[43mrequest\u001b[49m\u001b[43m(\u001b[49m\n\u001b[32m    154\u001b[39m \u001b[43m        \u001b[49m\u001b[33;43m\"\u001b[39;49m\u001b[33;43mpost\u001b[39;49m\u001b[33;43m\"\u001b[39;49m\u001b[43m,\u001b[49m\n\u001b[32m    155\u001b[39m \u001b[43m        \u001b[49m\u001b[43murl\u001b[49m\u001b[43m,\u001b[49m\n\u001b[32m    156\u001b[39m \u001b[43m        \u001b[49m\u001b[43mparams\u001b[49m\u001b[43m=\u001b[49m\u001b[43mparams\u001b[49m\u001b[43m,\u001b[49m\n\u001b[32m    157\u001b[39m \u001b[43m        \u001b[49m\u001b[43mheaders\u001b[49m\u001b[43m=\u001b[49m\u001b[43mheaders\u001b[49m\u001b[43m,\u001b[49m\n\u001b[32m    158\u001b[39m \u001b[43m        \u001b[49m\u001b[43mstream\u001b[49m\u001b[43m=\u001b[49m\u001b[43mstream\u001b[49m\u001b[43m,\u001b[49m\n\u001b[32m    159\u001b[39m \u001b[43m        \u001b[49m\u001b[43mrequest_id\u001b[49m\u001b[43m=\u001b[49m\u001b[43mrequest_id\u001b[49m\u001b[43m,\u001b[49m\n\u001b[32m    160\u001b[39m \u001b[43m        \u001b[49m\u001b[43mrequest_timeout\u001b[49m\u001b[43m=\u001b[49m\u001b[43mrequest_timeout\u001b[49m\u001b[43m,\u001b[49m\n\u001b[32m    161\u001b[39m \u001b[43m    \u001b[49m\u001b[43m)\u001b[49m\n\u001b[32m    163\u001b[39m     \u001b[38;5;28;01mif\u001b[39;00m stream:\n\u001b[32m    164\u001b[39m         \u001b[38;5;66;03m# must be an iterator\u001b[39;00m\n\u001b[32m    165\u001b[39m         \u001b[38;5;28;01massert\u001b[39;00m \u001b[38;5;129;01mnot\u001b[39;00m \u001b[38;5;28misinstance\u001b[39m(response, OpenAIResponse)\n",
      "\u001b[36mFile \u001b[39m\u001b[32m~\\AppData\\Local\\Packages\\PythonSoftwareFoundation.Python.3.12_qbz5n2kfra8p0\\LocalCache\\local-packages\\Python312\\site-packages\\openai\\api_requestor.py:298\u001b[39m, in \u001b[36mAPIRequestor.request\u001b[39m\u001b[34m(self, method, url, params, headers, files, stream, request_id, request_timeout)\u001b[39m\n\u001b[32m    277\u001b[39m \u001b[38;5;28;01mdef\u001b[39;00m\u001b[38;5;250m \u001b[39m\u001b[34mrequest\u001b[39m(\n\u001b[32m    278\u001b[39m     \u001b[38;5;28mself\u001b[39m,\n\u001b[32m    279\u001b[39m     method,\n\u001b[32m   (...)\u001b[39m\u001b[32m    286\u001b[39m     request_timeout: Optional[Union[\u001b[38;5;28mfloat\u001b[39m, Tuple[\u001b[38;5;28mfloat\u001b[39m, \u001b[38;5;28mfloat\u001b[39m]]] = \u001b[38;5;28;01mNone\u001b[39;00m,\n\u001b[32m    287\u001b[39m ) -> Tuple[Union[OpenAIResponse, Iterator[OpenAIResponse]], \u001b[38;5;28mbool\u001b[39m, \u001b[38;5;28mstr\u001b[39m]:\n\u001b[32m    288\u001b[39m     result = \u001b[38;5;28mself\u001b[39m.request_raw(\n\u001b[32m    289\u001b[39m         method.lower(),\n\u001b[32m    290\u001b[39m         url,\n\u001b[32m   (...)\u001b[39m\u001b[32m    296\u001b[39m         request_timeout=request_timeout,\n\u001b[32m    297\u001b[39m     )\n\u001b[32m--> \u001b[39m\u001b[32m298\u001b[39m     resp, got_stream = \u001b[38;5;28;43mself\u001b[39;49m\u001b[43m.\u001b[49m\u001b[43m_interpret_response\u001b[49m\u001b[43m(\u001b[49m\u001b[43mresult\u001b[49m\u001b[43m,\u001b[49m\u001b[43m \u001b[49m\u001b[43mstream\u001b[49m\u001b[43m)\u001b[49m\n\u001b[32m    299\u001b[39m     \u001b[38;5;28;01mreturn\u001b[39;00m resp, got_stream, \u001b[38;5;28mself\u001b[39m.api_key\n",
      "\u001b[36mFile \u001b[39m\u001b[32m~\\AppData\\Local\\Packages\\PythonSoftwareFoundation.Python.3.12_qbz5n2kfra8p0\\LocalCache\\local-packages\\Python312\\site-packages\\openai\\api_requestor.py:700\u001b[39m, in \u001b[36mAPIRequestor._interpret_response\u001b[39m\u001b[34m(self, result, stream)\u001b[39m\n\u001b[32m    692\u001b[39m     \u001b[38;5;28;01mreturn\u001b[39;00m (\n\u001b[32m    693\u001b[39m         \u001b[38;5;28mself\u001b[39m._interpret_response_line(\n\u001b[32m    694\u001b[39m             line, result.status_code, result.headers, stream=\u001b[38;5;28;01mTrue\u001b[39;00m\n\u001b[32m    695\u001b[39m         )\n\u001b[32m    696\u001b[39m         \u001b[38;5;28;01mfor\u001b[39;00m line \u001b[38;5;129;01min\u001b[39;00m parse_stream(result.iter_lines())\n\u001b[32m    697\u001b[39m     ), \u001b[38;5;28;01mTrue\u001b[39;00m\n\u001b[32m    698\u001b[39m \u001b[38;5;28;01melse\u001b[39;00m:\n\u001b[32m    699\u001b[39m     \u001b[38;5;28;01mreturn\u001b[39;00m (\n\u001b[32m--> \u001b[39m\u001b[32m700\u001b[39m         \u001b[38;5;28;43mself\u001b[39;49m\u001b[43m.\u001b[49m\u001b[43m_interpret_response_line\u001b[49m\u001b[43m(\u001b[49m\n\u001b[32m    701\u001b[39m \u001b[43m            \u001b[49m\u001b[43mresult\u001b[49m\u001b[43m.\u001b[49m\u001b[43mcontent\u001b[49m\u001b[43m.\u001b[49m\u001b[43mdecode\u001b[49m\u001b[43m(\u001b[49m\u001b[33;43m\"\u001b[39;49m\u001b[33;43mutf-8\u001b[39;49m\u001b[33;43m\"\u001b[39;49m\u001b[43m)\u001b[49m\u001b[43m,\u001b[49m\n\u001b[32m    702\u001b[39m \u001b[43m            \u001b[49m\u001b[43mresult\u001b[49m\u001b[43m.\u001b[49m\u001b[43mstatus_code\u001b[49m\u001b[43m,\u001b[49m\n\u001b[32m    703\u001b[39m \u001b[43m            \u001b[49m\u001b[43mresult\u001b[49m\u001b[43m.\u001b[49m\u001b[43mheaders\u001b[49m\u001b[43m,\u001b[49m\n\u001b[32m    704\u001b[39m \u001b[43m            \u001b[49m\u001b[43mstream\u001b[49m\u001b[43m=\u001b[49m\u001b[38;5;28;43;01mFalse\u001b[39;49;00m\u001b[43m,\u001b[49m\n\u001b[32m    705\u001b[39m \u001b[43m        \u001b[49m\u001b[43m)\u001b[49m,\n\u001b[32m    706\u001b[39m         \u001b[38;5;28;01mFalse\u001b[39;00m,\n\u001b[32m    707\u001b[39m     )\n",
      "\u001b[36mFile \u001b[39m\u001b[32m~\\AppData\\Local\\Packages\\PythonSoftwareFoundation.Python.3.12_qbz5n2kfra8p0\\LocalCache\\local-packages\\Python312\\site-packages\\openai\\api_requestor.py:765\u001b[39m, in \u001b[36mAPIRequestor._interpret_response_line\u001b[39m\u001b[34m(self, rbody, rcode, rheaders, stream)\u001b[39m\n\u001b[32m    763\u001b[39m stream_error = stream \u001b[38;5;129;01mand\u001b[39;00m \u001b[33m\"\u001b[39m\u001b[33merror\u001b[39m\u001b[33m\"\u001b[39m \u001b[38;5;129;01min\u001b[39;00m resp.data\n\u001b[32m    764\u001b[39m \u001b[38;5;28;01mif\u001b[39;00m stream_error \u001b[38;5;129;01mor\u001b[39;00m \u001b[38;5;129;01mnot\u001b[39;00m \u001b[32m200\u001b[39m <= rcode < \u001b[32m300\u001b[39m:\n\u001b[32m--> \u001b[39m\u001b[32m765\u001b[39m     \u001b[38;5;28;01mraise\u001b[39;00m \u001b[38;5;28mself\u001b[39m.handle_error_response(\n\u001b[32m    766\u001b[39m         rbody, rcode, resp.data, rheaders, stream_error=stream_error\n\u001b[32m    767\u001b[39m     )\n\u001b[32m    768\u001b[39m \u001b[38;5;28;01mreturn\u001b[39;00m resp\n",
      "\u001b[31mInvalidRequestError\u001b[39m: The model `gpt-4o-mini` does not exist or you do not have access to it."
     ]
    }
   ],
   "source": [
    "import os\n",
    "import openai\n",
    "\n",
    "os.environ[\"OPENAI_API_KEY\"] = \"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\"\n",
    "openai.api_key = os.environ[\"OPENAI_API_KEY\"]\n",
    "openai.api_base = \"https://api.groq.com/openai/v1\"\n",
    "\n",
    "response = openai.ChatCompletion.create(\n",
    "    model=\"gpt-4o-mini\",\n",
    "    messages=[{\"role\": \"user\", \"content\": \"Summarize what this company does: ExampleCorp.\"}],\n",
    "    temperature=1.0,\n",
    "    n=1,\n",
    ")\n",
    "\n",
    "print(response.choices[0].message.content)\n"
   ]
  },
  {
   "cell_type": "code",
   "execution_count": 4,
   "id": "58d8d409",
   "metadata": {},
   "outputs": [
    {
     "name": "stdout",
     "output_type": "stream",
     "text": [
      "**Summary of ExampleCorp:**\n",
      "\n",
      "ExampleCorp is a name used by multiple entities, making it challenging to provide a single, definitive summary of what the company does. Based on the available information, it appears that there are at least three different ExampleCorps operating in various sectors:\n",
      "\n",
      "1. **Public Health**: One ExampleCorp is involved in public health, with a mission to improve lives by promoting healthy lifestyles and providing access to quality healthcare.\n",
      "2. **Web Services**: Another ExampleCorp specializes in website-related services, including design, development, building, hosting, updating, adjusting, marketing, monitoring, auditing, consulting, and fixing.\n",
      "3. **Retail**: There's also an Example Corp that operates as a clothing and accessory retailer.\n",
      "\n",
      "Without more specific information or context about the particular ExampleCorp in question, it's difficult to provide a more detailed summary. The name \"ExampleCorp\" seems to be used as a placeholder or example name in various contexts, which may contribute to the confusion.\n",
      "\n",
      "If you have any additional details or clarification about the specific ExampleCorp you're interested in, I'd be happy to try and provide a more targeted response.\n"
     ]
    }
   ],
   "source": [
    "import os\n",
    "import openai\n",
    "\n",
    "os.environ[\"OPENAI_API_KEY\"] = \"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\"\n",
    "openai.api_key = os.environ[\"OPENAI_API_KEY\"]\n",
    "openai.api_base = \"https://api.groq.com/openai/v1\"\n",
    "\n",
    "response = openai.ChatCompletion.create(\n",
    "    model=\"compound-beta\",\n",
    "    messages=[\n",
    "        {\"role\": \"user\", \"content\": \"Summarize what this company does: ExampleCorp.\"}\n",
    "    ],\n",
    "    temperature=1.0,\n",
    "    n=1,\n",
    ")\n",
    "\n",
    "print(response.choices[0].message.content)\n"
   ]
  },
  {
   "cell_type": "code",
   "execution_count": null,
   "id": "05f6ff22",
   "metadata": {},
   "outputs": [
    {
     "name": "stdout",
     "output_type": "stream",
     "text": [
      "Summary of OpenAI:\n",
      "\n",
      "Error: module 'openai' has no attribute 'chat'\n",
      "\n",
      "----------------------------------------\n",
      "\n",
      "Summary of DeepMind:\n",
      "\n",
      "Error: module 'openai' has no attribute 'chat'\n",
      "\n",
      "----------------------------------------\n",
      "\n",
      "Summary of Zoho:\n",
      "\n",
      "Error: module 'openai' has no attribute 'chat'\n",
      "\n",
      "----------------------------------------\n",
      "\n",
      "Summary of Freshworks:\n",
      "\n",
      "Error: module 'openai' has no attribute 'chat'\n",
      "\n",
      "----------------------------------------\n",
      "\n"
     ]
    }
   ],
   "source": [
    "import os\n",
    "import csv\n",
    "import openai\n",
    "\n",
    "# Set your Groq API key and base URL\n",
    "os.environ[\"OPENAI_API_KEY\"] = \"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\"\n",
    "openai.api_key = os.environ[\"OPENAI_API_KEY\"]\n",
    "openai.api_base = \"https://api.groq.com/openai/v1\"\n",
    "\n",
    "# List of companies (you can load from a CSV instead)\n",
    "companies = [\"OpenAI\", \"DeepMind\", \"Zoho\", \"Freshworks\"]\n",
    "\n",
    "def summarize_company(company_name):\n",
    "    try:\n",
    "        response = openai.chat.completions.create(\n",
    "            model=\"compound-beta-mini\",  # Use Groq supported model\n",
    "            messages=[\n",
    "                {\"role\": \"user\", \"content\": f\"Summarize what this company does: {company_name}.\"}\n",
    "            ],\n",
    "            temperature=1.0,\n",
    "            n=1,\n",
    "        )\n",
    "        summary = response.choices[0].message.content\n",
    "        return summary\n",
    "    except Exception as e:\n",
    "        return f\"Error: {str(e)}\"\n",
    "\n",
    "# If you want to read from a CSV file:\n",
    "# import pandas as pd\n",
    "# df = pd.read_csv(\"companies.csv\")\n",
    "# companies = df[\"company_name\"].tolist()\n",
    "\n",
    "for company in companies:\n",
    "    print(f\"Summary of {company}:\\n\")\n",
    "    print(summarize_company(company))\n",
    "    print(\"\\n\" + \"-\"*40 + \"\\n\")\n"
   ]
  },
  {
   "cell_type": "code",
   "execution_count": 6,
   "id": "b390308b",
   "metadata": {},
   "outputs": [
    {
     "name": "stdout",
     "output_type": "stream",
     "text": [
      "Defaulting to user installation because normal site-packages is not writeable\n",
      "Requirement already satisfied: openai in c:\\users\\acer\\appdata\\local\\packages\\pythonsoftwarefoundation.python.3.12_qbz5n2kfra8p0\\localcache\\local-packages\\python312\\site-packages (0.28.0)\n",
      "Collecting openai\n",
      "  Using cached openai-1.82.1-py3-none-any.whl.metadata (25 kB)\n",
      "Requirement already satisfied: anyio<5,>=3.5.0 in c:\\users\\acer\\appdata\\local\\packages\\pythonsoftwarefoundation.python.3.12_qbz5n2kfra8p0\\localcache\\local-packages\\python312\\site-packages (from openai) (4.9.0)\n",
      "Requirement already satisfied: distro<2,>=1.7.0 in c:\\users\\acer\\appdata\\local\\packages\\pythonsoftwarefoundation.python.3.12_qbz5n2kfra8p0\\localcache\\local-packages\\python312\\site-packages (from openai) (1.9.0)\n",
      "Requirement already satisfied: httpx<1,>=0.23.0 in c:\\users\\acer\\appdata\\local\\packages\\pythonsoftwarefoundation.python.3.12_qbz5n2kfra8p0\\localcache\\local-packages\\python312\\site-packages (from openai) (0.28.1)\n",
      "Requirement already satisfied: jiter<1,>=0.4.0 in c:\\users\\acer\\appdata\\local\\packages\\pythonsoftwarefoundation.python.3.12_qbz5n2kfra8p0\\localcache\\local-packages\\python312\\site-packages (from openai) (0.10.0)\n",
      "Requirement already satisfied: pydantic<3,>=1.9.0 in c:\\users\\acer\\appdata\\local\\packages\\pythonsoftwarefoundation.python.3.12_qbz5n2kfra8p0\\localcache\\local-packages\\python312\\site-packages (from openai) (2.11.5)\n",
      "Requirement already satisfied: sniffio in c:\\users\\acer\\appdata\\local\\packages\\pythonsoftwarefoundation.python.3.12_qbz5n2kfra8p0\\localcache\\local-packages\\python312\\site-packages (from openai) (1.3.1)\n",
      "Requirement already satisfied: tqdm>4 in c:\\users\\acer\\appdata\\local\\packages\\pythonsoftwarefoundation.python.3.12_qbz5n2kfra8p0\\localcache\\local-packages\\python312\\site-packages (from openai) (4.67.1)\n",
      "Requirement already satisfied: typing-extensions<5,>=4.11 in c:\\users\\acer\\appdata\\local\\packages\\pythonsoftwarefoundation.python.3.12_qbz5n2kfra8p0\\localcache\\local-packages\\python312\\site-packages (from openai) (4.13.2)\n",
      "Requirement already satisfied: idna>=2.8 in c:\\users\\acer\\appdata\\local\\packages\\pythonsoftwarefoundation.python.3.12_qbz5n2kfra8p0\\localcache\\local-packages\\python312\\site-packages (from anyio<5,>=3.5.0->openai) (3.10)\n",
      "Requirement already satisfied: certifi in c:\\users\\acer\\appdata\\local\\packages\\pythonsoftwarefoundation.python.3.12_qbz5n2kfra8p0\\localcache\\local-packages\\python312\\site-packages (from httpx<1,>=0.23.0->openai) (2025.4.26)\n",
      "Requirement already satisfied: httpcore==1.* in c:\\users\\acer\\appdata\\local\\packages\\pythonsoftwarefoundation.python.3.12_qbz5n2kfra8p0\\localcache\\local-packages\\python312\\site-packages (from httpx<1,>=0.23.0->openai) (1.0.9)\n",
      "Requirement already satisfied: h11>=0.16 in c:\\users\\acer\\appdata\\local\\packages\\pythonsoftwarefoundation.python.3.12_qbz5n2kfra8p0\\localcache\\local-packages\\python312\\site-packages (from httpcore==1.*->httpx<1,>=0.23.0->openai) (0.16.0)\n",
      "Requirement already satisfied: annotated-types>=0.6.0 in c:\\users\\acer\\appdata\\local\\packages\\pythonsoftwarefoundation.python.3.12_qbz5n2kfra8p0\\localcache\\local-packages\\python312\\site-packages (from pydantic<3,>=1.9.0->openai) (0.7.0)\n",
      "Requirement already satisfied: pydantic-core==2.33.2 in c:\\users\\acer\\appdata\\local\\packages\\pythonsoftwarefoundation.python.3.12_qbz5n2kfra8p0\\localcache\\local-packages\\python312\\site-packages (from pydantic<3,>=1.9.0->openai) (2.33.2)\n",
      "Requirement already satisfied: typing-inspection>=0.4.0 in c:\\users\\acer\\appdata\\local\\packages\\pythonsoftwarefoundation.python.3.12_qbz5n2kfra8p0\\localcache\\local-packages\\python312\\site-packages (from pydantic<3,>=1.9.0->openai) (0.4.1)\n",
      "Requirement already satisfied: colorama in c:\\users\\acer\\appdata\\local\\packages\\pythonsoftwarefoundation.python.3.12_qbz5n2kfra8p0\\localcache\\local-packages\\python312\\site-packages (from tqdm>4->openai) (0.4.6)\n",
      "Using cached openai-1.82.1-py3-none-any.whl (720 kB)\n",
      "Installing collected packages: openai\n",
      "  Attempting uninstall: openai\n",
      "    Found existing installation: openai 0.28.0\n",
      "    Uninstalling openai-0.28.0:\n",
      "      Successfully uninstalled openai-0.28.0\n",
      "Successfully installed openai-1.82.1\n"
     ]
    },
    {
     "name": "stderr",
     "output_type": "stream",
     "text": [
      "\n",
      "[notice] A new release of pip is available: 25.0.1 -> 25.1.1\n",
      "[notice] To update, run: C:\\Users\\acer\\AppData\\Local\\Microsoft\\WindowsApps\\PythonSoftwareFoundation.Python.3.12_qbz5n2kfra8p0\\python.exe -m pip install --upgrade pip\n"
     ]
    }
   ],
   "source": [
    "!pip install --upgrade openai\n"
   ]
  },
  {
   "cell_type": "code",
   "execution_count": 7,
   "id": "b6d85e42",
   "metadata": {},
   "outputs": [
    {
     "name": "stdout",
     "output_type": "stream",
     "text": [
      "0.28.0\n"
     ]
    }
   ],
   "source": [
    "import openai\n",
    "print(openai.__version__)\n"
   ]
  },
  {
   "cell_type": "code",
   "execution_count": 9,
   "id": "da77014d",
   "metadata": {},
   "outputs": [
    {
     "name": "stdout",
     "output_type": "stream",
     "text": [
      "Summary of OpenAI:\n",
      "\n",
      "OpenAI is a company focused on developing and promoting artificial intelligence (AI) technologies. They conduct research in AI, create AI models like ChatGPT, and make these models available for various applications, aiming to ensure that AI benefits all of humanity. Their goal is to build AI systems that are safe, secure, and broadly accessible.\n",
      "\n",
      "----------------------------------------\n",
      "\n",
      "Summary of DeepMind:\n",
      "\n",
      "DeepMind is an AI research laboratory, a subsidiary of Alphabet (Google's parent company). They develop AI systems that can perform tasks across multiple domains, focusing on deep learning and reinforcement learning. Their goal is to advance the state of the art in artificial intelligence, with applications in areas like:\n",
      "\n",
      "* Scientific discovery\n",
      "* Healthcare (e.g., diagnosing eye diseases)\n",
      "* Energy efficiency (e.g., reducing data center cooling costs)\n",
      "* Robotics\n",
      "* Natural language processing (e.g., text-to-speech models)\n",
      "\n",
      "DeepMind's research has led to breakthroughs in fundamental AI, published in top journals like Nature and Science. They aim to develop general-purpose AI algorithms and systems, with a focus on safety and ethics.\n",
      "\n",
      "Some notable achievements include:\n",
      "\n",
      "* AlphaGo, AlphaZero, and MuZero (AI systems that can play complex games and solve real-world problems)\n",
      "* WaveNet (a realistic text-to-speech model)\n",
      "* Protein structure prediction (a potential breakthrough in drug discovery)\n",
      "\n",
      "DeepMind has around 2,000 employees and was founded in 2010, acquired by Google in 2014. Their mission is to develop AI that can help solve some of the world's most pressing scientific challenges.\n",
      "\n",
      "----------------------------------------\n",
      "\n",
      "Summary of Zoho:\n",
      "\n",
      "Zoho is a software company that provides a range of cloud-based business applications and tools. They offer a suite of products that cater to various business needs, including:\n",
      "\n",
      "1. **Productivity and Collaboration**: Zoho offers a comprehensive office suite, Zoho Workplace, which includes word processing, spreadsheets, presentations, and project management tools.\n",
      "2. **Customer Relationship Management (CRM)**: Zoho CRM helps businesses manage their sales, marketing, and customer support activities.\n",
      "3. **Marketing Automation**: Zoho Marketing Automation enables businesses to automate their marketing workflows and campaigns.\n",
      "4. **Finance and Accounting**: Zoho Books is an accounting and invoicing tool that helps small businesses manage their finances.\n",
      "5. **Human Resources**: Zoho People is an HR management platform that streamlines employee data, payroll, and benefits administration.\n",
      "\n",
      "Overall, Zoho aims to provide an integrated suite of business applications that help organizations streamline their operations, improve productivity, and enhance customer engagement. Their products are designed to be user-friendly, customizable, and affordable, making them a popular choice among small and medium-sized businesses.\n",
      "\n",
      "----------------------------------------\n",
      "\n",
      "Summary of Freshworks:\n",
      "\n",
      "Freshworks is a software company that provides cloud-based customer service and employee experience software solutions. Their products are designed to help businesses deliver exceptional customer and employee experiences. \n",
      "\n",
      "The company offers a range of products, including:\n",
      "\n",
      "1. **Customer Experience (CX) software**: Helps businesses manage customer interactions, support, and engagement.\n",
      "2. **Employee Experience (EX) software**: Streamlines employee service management and support.\n",
      "\n",
      "Some of their notable products include:\n",
      "\n",
      "1. **Freshdesk**: A customer support software.\n",
      "2. **Freshservice**: An IT service management software.\n",
      "\n",
      "Freshworks' software solutions are designed to be easy to use, powerful, and quick to deliver results. They serve over 72,000 companies worldwide, including well-known brands like Bridgestone, New Balance, and Sony Music.\n",
      "\n",
      "The company operates on a subscription-based Software-as-a-Service (SaaS) model, offering online office suites and business management tools. With a global presence, Freshworks is valued at around $4.4 billion and has over 4,900 employees as of 2023.\n",
      "\n",
      "----------------------------------------\n",
      "\n"
     ]
    }
   ],
   "source": [
    "import os\n",
    "import requests\n",
    "\n",
    "API_KEY = os.getenv(\"OPENAI_API_KEY\")\n",
    "API_BASE = \"https://api.groq.com/openai/v1\"\n",
    "MODEL = \"compound-beta-mini\"  # Groq model that exists\n",
    "\n",
    "def summarize_company(company_name):\n",
    "    url = f\"{API_BASE}/chat/completions\"\n",
    "    headers = {\n",
    "        \"Authorization\": f\"Bearer {API_KEY}\",\n",
    "        \"Content-Type\": \"application/json\"\n",
    "    }\n",
    "    data = {\n",
    "        \"model\": MODEL,\n",
    "        \"messages\": [\n",
    "            {\"role\": \"user\", \"content\": f\"Summarize what this company does: {company_name}.\"}\n",
    "        ],\n",
    "        \"temperature\": 1.0,\n",
    "        \"n\": 1\n",
    "    }\n",
    "\n",
    "    response = requests.post(url, headers=headers, json=data)\n",
    "    if response.status_code == 200:\n",
    "        result = response.json()\n",
    "        return result['choices'][0]['message']['content']\n",
    "    else:\n",
    "        return f\"Error {response.status_code}: {response.text}\"\n",
    "\n",
    "# Example usage:\n",
    "for company in [\"OpenAI\", \"DeepMind\", \"Zoho\", \"Freshworks\"]:\n",
    "    print(f\"Summary of {company}:\\n\")\n",
    "    print(summarize_company(company))\n",
    "    print(\"\\n\" + \"-\"*40 + \"\\n\")\n"
   ]
  },
  {
   "cell_type": "code",
   "execution_count": 10,
   "id": "f3397a98",
   "metadata": {},
   "outputs": [
    {
     "name": "stdout",
     "output_type": "stream",
     "text": [
      "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\n"
     ]
    }
   ],
   "source": [
    "import os\n",
    "print(os.getenv(\"OPENAI_API_KEY\"))\n"
   ]
  },
  {
   "cell_type": "code",
   "execution_count": 2,
   "id": "63a4c7d4",
   "metadata": {},
   "outputs": [
    {
     "name": "stdout",
     "output_type": "stream",
     "text": [
      "None\n"
     ]
    }
   ],
   "source": [
    "import os\n",
    "print(os.getenv(\"OPENAI_API_KEY\"))\n"
   ]
  },
  {
   "cell_type": "code",
   "execution_count": 3,
   "id": "7800643d",
   "metadata": {},
   "outputs": [
    {
     "ename": "OpenAIError",
     "evalue": "The api_key client option must be set either by passing api_key to the client or by setting the OPENAI_API_KEY environment variable",
     "output_type": "error",
     "traceback": [
      "\u001b[31m---------------------------------------------------------------------------\u001b[39m",
      "\u001b[31mOpenAIError\u001b[39m                               Traceback (most recent call last)",
      "\u001b[36mCell\u001b[39m\u001b[36m \u001b[39m\u001b[32mIn[3]\u001b[39m\u001b[32m, line 5\u001b[39m\n\u001b[32m      2\u001b[39m \u001b[38;5;28;01mfrom\u001b[39;00m\u001b[38;5;250m \u001b[39m\u001b[34;01mopenai\u001b[39;00m\u001b[38;5;250m \u001b[39m\u001b[38;5;28;01mimport\u001b[39;00m OpenAI\n\u001b[32m      4\u001b[39m api_key = os.getenv(\u001b[33m\"\u001b[39m\u001b[33mOPENAI_API_KEY\u001b[39m\u001b[33m\"\u001b[39m)\n\u001b[32m----> \u001b[39m\u001b[32m5\u001b[39m client = \u001b[43mOpenAI\u001b[49m\u001b[43m(\u001b[49m\u001b[43mapi_key\u001b[49m\u001b[43m=\u001b[49m\u001b[43mapi_key\u001b[49m\u001b[43m)\u001b[49m  \u001b[38;5;66;03m# default base_url is fine for OpenAI\u001b[39;00m\n",
      "\u001b[36mFile \u001b[39m\u001b[32m~\\AppData\\Local\\Packages\\PythonSoftwareFoundation.Python.3.12_qbz5n2kfra8p0\\LocalCache\\local-packages\\Python312\\site-packages\\openai\\_client.py:126\u001b[39m, in \u001b[36mOpenAI.__init__\u001b[39m\u001b[34m(self, api_key, organization, project, base_url, websocket_base_url, timeout, max_retries, default_headers, default_query, http_client, _strict_response_validation)\u001b[39m\n\u001b[32m    124\u001b[39m     api_key = os.environ.get(\u001b[33m\"\u001b[39m\u001b[33mOPENAI_API_KEY\u001b[39m\u001b[33m\"\u001b[39m)\n\u001b[32m    125\u001b[39m \u001b[38;5;28;01mif\u001b[39;00m api_key \u001b[38;5;129;01mis\u001b[39;00m \u001b[38;5;28;01mNone\u001b[39;00m:\n\u001b[32m--> \u001b[39m\u001b[32m126\u001b[39m     \u001b[38;5;28;01mraise\u001b[39;00m OpenAIError(\n\u001b[32m    127\u001b[39m         \u001b[33m\"\u001b[39m\u001b[33mThe api_key client option must be set either by passing api_key to the client or by setting the OPENAI_API_KEY environment variable\u001b[39m\u001b[33m\"\u001b[39m\n\u001b[32m    128\u001b[39m     )\n\u001b[32m    129\u001b[39m \u001b[38;5;28mself\u001b[39m.api_key = api_key\n\u001b[32m    131\u001b[39m \u001b[38;5;28;01mif\u001b[39;00m organization \u001b[38;5;129;01mis\u001b[39;00m \u001b[38;5;28;01mNone\u001b[39;00m:\n",
      "\u001b[31mOpenAIError\u001b[39m: The api_key client option must be set either by passing api_key to the client or by setting the OPENAI_API_KEY environment variable"
     ]
    }
   ],
   "source": [
    "import os\n",
    "from openai import OpenAI\n",
    "\n",
    "api_key = os.getenv(\"OPENAI_API_KEY\")\n",
    "client = OpenAI(api_key=api_key)  # default base_url is fine for OpenAI\n"
   ]
  },
  {
   "cell_type": "code",
   "execution_count": 4,
   "id": "24a43a52",
   "metadata": {},
   "outputs": [],
   "source": [
    "import os\n",
    "from openai import OpenAI\n",
    "\n",
    "api_key = os.getenv(\"OPENAI_API_KEY\") or \"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\"\n",
    "client = OpenAI(api_key=api_key)\n"
   ]
  }
 ],
 "metadata": {
  "kernelspec": {
   "display_name": "Python 3",
   "language": "python",
   "name": "python3"
  },
  "language_info": {
   "codemirror_mode": {
    "name": "ipython",
    "version": 3
   },
   "file_extension": ".py",
   "mimetype": "text/x-python",
   "name": "python",
   "nbconvert_exporter": "python",
   "pygments_lexer": "ipython3",
   "version": "3.12.10"
  }
 },
 "nbformat": 4,
 "nbformat_minor": 5
}
